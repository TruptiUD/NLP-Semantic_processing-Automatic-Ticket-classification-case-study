{
  "cells": [
    {
      "cell_type": "markdown",
      "metadata": {
        "id": "view-in-github"
      },
      "source": [
        "<a href=\"https://colab.research.google.com/github/junaidalamgithub/DataScience_NLP/blob/main/Automatic_Ticket_Classification_Topic_Modelling_Md_Junaid_Alam.ipynb\" target=\"_parent\"><img src=\"https://colab.research.google.com/assets/colab-badge.svg\" alt=\"Open In Colab\"/></a>"
      ]
    },
    {
      "cell_type": "markdown",
      "metadata": {
        "id": "riT0W647bpA0"
      },
      "source": [
        "# Automatic Ticket Classification - Topic Modelling"
      ]
    },
    {
      "cell_type": "markdown",
      "metadata": {
        "id": "xk-P-j0QbpA1"
      },
      "source": [
        "#### <font color='Red'>Gropu Members</font>\n",
        "- Trupti Dhumal (Group Facilator)\n",
        "- Mohit Gupta"
      ]
    },
    {
      "cell_type": "markdown",
      "metadata": {
        "id": "rhR-ZUkwJrFn"
      },
      "source": [
        "## Problem Statement \n",
        "\n",
        "You need to build a model that is able to classify customer complaints based on the products/services. By doing so, you can segregate these tickets into their relevant categories and, therefore, help in the quick resolution of the issue.\n",
        "\n",
        "You will be doing topic modelling on the <b>.json</b> data provided by the company. Since this data is not labelled, you need to apply NMF to analyse patterns and classify tickets into the following five clusters based on their products/services:\n",
        "\n",
        "* Credit card / Prepaid card\n",
        "\n",
        "* Bank account services\n",
        "\n",
        "* Theft/Dispute reporting\n",
        "\n",
        "* Mortgages/loans\n",
        "\n",
        "* Others \n",
        "\n",
        "\n",
        "With the help of topic modelling, you will be able to map each ticket onto its respective department/category. You can then use this data to train any supervised model such as logistic regression, decision tree or random forest. Using this trained model, you can classify any new customer complaint support ticket into its relevant department."
      ]
    },
    {
      "cell_type": "markdown",
      "metadata": {
        "id": "mcgXVNyaLUFS"
      },
      "source": [
        "## Pipelines that needs to be performed:\n",
        "\n",
        "You need to perform the following eight major tasks to complete the assignment:\n",
        "\n",
        "1.  Data loading\n",
        "\n",
        "2. Text preprocessing\n",
        "\n",
        "3. Exploratory data analysis (EDA)\n",
        "\n",
        "4. Feature extraction\n",
        "\n",
        "5. Topic modelling \n",
        "\n",
        "6. Model building using supervised learning\n",
        "\n",
        "7. Model training and evaluation\n",
        "\n",
        "8. Model inference"
      ]
    },
    {
      "cell_type": "markdown",
      "metadata": {
        "id": "JuLFIymAL58u"
      },
      "source": [
        "## Importing the necessary libraries"
      ]
    },
    {
      "cell_type": "code",
      "execution_count": null,
      "metadata": {
        "id": "O-Q9pqrcJrFr"
      },
      "outputs": [],
      "source": [
        "import json \n",
        "import numpy as np\n",
        "import pandas as pd\n",
        "import re, nltk, spacy, string\n",
        "import en_core_web_sm\n",
        "nlp = en_core_web_sm.load()\n",
        "import seaborn as sns\n",
        "import matplotlib.pyplot as plt\n",
        "%matplotlib inline\n",
        "\n",
        "from plotly.offline import plot\n",
        "import plotly.graph_objects as go\n",
        "import plotly.express as px\n",
        "\n",
        "from sklearn.feature_extraction.text import CountVectorizer, TfidfVectorizer, TfidfTransformer\n",
        "from pprint import pprint"
      ]
    },
    {
      "cell_type": "markdown",
      "metadata": {
        "id": "KtRLCsNVJrFt"
      },
      "source": [
        "## Loading the data\n",
        "\n",
        "The data is in JSON format and we need to convert it to a dataframe."
      ]
    },
    {
      "cell_type": "code",
      "execution_count": null,
      "metadata": {
        "id": "sYhmazKfuzOf"
      },
      "outputs": [],
      "source": [
        "# Download the customer complaints json files from my google drive to colab\n",
        "#! gdown --id 1hHJAoqY7Vb7b0Pt6ovpHg6jn3TGl4wvP"
      ]
    },
    {
      "cell_type": "code",
      "execution_count": null,
      "metadata": {
        "id": "aMP_kRBKNTvG"
      },
      "outputs": [],
      "source": [
        "# Opening JSON file \n",
        "f = open(\"complaints.json\")# Write the path to your data file and load it \n",
        "  \n",
        "# returns JSON object as  \n",
        "# a dictionary \n",
        "data = json.load(f)\n",
        "df=pd.json_normalize(data)"
      ]
    },
    {
      "cell_type": "markdown",
      "metadata": {
        "id": "_xYpH-sAJrFu"
      },
      "source": [
        "## Data preparation"
      ]
    },
    {
      "cell_type": "code",
      "execution_count": null,
      "metadata": {
        "colab": {
          "base_uri": "https://localhost:8080/"
        },
        "id": "Lf8ufHH5JrFu",
        "outputId": "da93de7e-fe69-4330-90ea-4bde746843bf"
      },
      "outputs": [
        {
          "name": "stdout",
          "output_type": "stream",
          "text": [
            "                _index      _type      _id  _score   _source.tags  \\\n",
            "0  complaint-public-v2  complaint  3211475     0.0           None   \n",
            "1  complaint-public-v2  complaint  3229299     0.0  Servicemember   \n",
            "2  complaint-public-v2  complaint  3199379     0.0           None   \n",
            "3  complaint-public-v2  complaint  2673060     0.0           None   \n",
            "4  complaint-public-v2  complaint  3203545     0.0           None   \n",
            "\n",
            "  _source.zip_code _source.complaint_id                       _source.issue  \\\n",
            "0            90301              3211475   Attempts to collect debt not owed   \n",
            "1            319XX              3229299     Written notification about debt   \n",
            "2            77069              3199379  Other features, terms, or problems   \n",
            "3            48066              2673060      Trouble during payment process   \n",
            "4            10473              3203545                    Fees or interest   \n",
            "\n",
            "       _source.date_received _source.state  ... _source.company_response  \\\n",
            "0  2019-04-13T12:00:00-05:00            CA  ...  Closed with explanation   \n",
            "1  2019-05-01T12:00:00-05:00            GA  ...  Closed with explanation   \n",
            "2  2019-04-02T12:00:00-05:00            TX  ...  Closed with explanation   \n",
            "3  2017-09-13T12:00:00-05:00            MI  ...  Closed with explanation   \n",
            "4  2019-04-05T12:00:00-05:00            NY  ...  Closed with explanation   \n",
            "\n",
            "        _source.company _source.submitted_via _source.date_sent_to_company  \\\n",
            "0  JPMORGAN CHASE & CO.                   Web    2019-04-13T12:00:00-05:00   \n",
            "1  JPMORGAN CHASE & CO.                   Web    2019-05-01T12:00:00-05:00   \n",
            "2  JPMORGAN CHASE & CO.                   Web    2019-04-02T12:00:00-05:00   \n",
            "3  JPMORGAN CHASE & CO.                   Web    2017-09-14T12:00:00-05:00   \n",
            "4  JPMORGAN CHASE & CO.              Referral    2019-04-05T12:00:00-05:00   \n",
            "\n",
            "  _source.company_public_response                         _source.sub_product  \\\n",
            "0                            None                            Credit card debt   \n",
            "1                            None                            Credit card debt   \n",
            "2                            None  General-purpose credit card or charge card   \n",
            "3                            None                  Conventional home mortgage   \n",
            "4                            None  General-purpose credit card or charge card   \n",
            "\n",
            "  _source.timely                    _source.complaint_what_happened  \\\n",
            "0            Yes                                                      \n",
            "1            Yes  Good morning my name is XXXX XXXX and I apprec...   \n",
            "2            Yes  I upgraded my XXXX XXXX card in XX/XX/2018 and...   \n",
            "3            Yes                                                      \n",
            "4            Yes                                                      \n",
            "\n",
            "                                  _source.sub_issue  \\\n",
            "0                                 Debt is not yours   \n",
            "1  Didn't receive enough information to verify debt   \n",
            "2             Problem with rewards from credit card   \n",
            "3                                              None   \n",
            "4                         Charged too much interest   \n",
            "\n",
            "  _source.consumer_consent_provided  \n",
            "0              Consent not provided  \n",
            "1                  Consent provided  \n",
            "2                  Consent provided  \n",
            "3              Consent not provided  \n",
            "4                               N/A  \n",
            "\n",
            "[5 rows x 22 columns]\n"
          ]
        }
      ],
      "source": [
        "# Inspect the dataframe to understand the given data.\n",
        "print(df.head())"
      ]
    },
    {
      "cell_type": "code",
      "execution_count": null,
      "metadata": {
        "colab": {
          "base_uri": "https://localhost:8080/"
        },
        "id": "5ofAKhVL9xQd",
        "outputId": "70f0fc54-3faa-453a-d8f6-5301a91a8064"
      },
      "outputs": [
        {
          "name": "stdout",
          "output_type": "stream",
          "text": [
            "<class 'pandas.core.frame.DataFrame'>\n",
            "RangeIndex: 78313 entries, 0 to 78312\n",
            "Data columns (total 22 columns):\n",
            " #   Column                             Non-Null Count  Dtype  \n",
            "---  ------                             --------------  -----  \n",
            " 0   _index                             78313 non-null  object \n",
            " 1   _type                              78313 non-null  object \n",
            " 2   _id                                78313 non-null  object \n",
            " 3   _score                             78313 non-null  float64\n",
            " 4   _source.tags                       10900 non-null  object \n",
            " 5   _source.zip_code                   71556 non-null  object \n",
            " 6   _source.complaint_id               78313 non-null  object \n",
            " 7   _source.issue                      78313 non-null  object \n",
            " 8   _source.date_received              78313 non-null  object \n",
            " 9   _source.state                      76322 non-null  object \n",
            " 10  _source.consumer_disputed          78313 non-null  object \n",
            " 11  _source.product                    78313 non-null  object \n",
            " 12  _source.company_response           78313 non-null  object \n",
            " 13  _source.company                    78313 non-null  object \n",
            " 14  _source.submitted_via              78313 non-null  object \n",
            " 15  _source.date_sent_to_company       78313 non-null  object \n",
            " 16  _source.company_public_response    4 non-null      object \n",
            " 17  _source.sub_product                67742 non-null  object \n",
            " 18  _source.timely                     78313 non-null  object \n",
            " 19  _source.complaint_what_happened    78313 non-null  object \n",
            " 20  _source.sub_issue                  32016 non-null  object \n",
            " 21  _source.consumer_consent_provided  77305 non-null  object \n",
            "dtypes: float64(1), object(21)\n",
            "memory usage: 13.1+ MB\n"
          ]
        }
      ],
      "source": [
        "# Check the data type and other info\n",
        "df.info()"
      ]
    },
    {
      "cell_type": "code",
      "execution_count": null,
      "metadata": {
        "colab": {
          "base_uri": "https://localhost:8080/"
        },
        "id": "qS4OR4m5436n",
        "outputId": "019f47ff-5087-45d3-ef0f-df23abb00081"
      },
      "outputs": [
        {
          "data": {
            "text/plain": [
              "_index                                   0\n",
              "_type                                    0\n",
              "_id                                      0\n",
              "_score                                   0\n",
              "_source.tags                         67413\n",
              "_source.zip_code                      6757\n",
              "_source.complaint_id                     0\n",
              "_source.issue                            0\n",
              "_source.date_received                    0\n",
              "_source.state                         1991\n",
              "_source.consumer_disputed                0\n",
              "_source.product                          0\n",
              "_source.company_response                 0\n",
              "_source.company                          0\n",
              "_source.submitted_via                    0\n",
              "_source.date_sent_to_company             0\n",
              "_source.company_public_response      78309\n",
              "_source.sub_product                  10571\n",
              "_source.timely                           0\n",
              "_source.complaint_what_happened          0\n",
              "_source.sub_issue                    46297\n",
              "_source.consumer_consent_provided     1008\n",
              "dtype: int64"
            ]
          },
          "execution_count": 6,
          "metadata": {},
          "output_type": "execute_result"
        }
      ],
      "source": [
        "# Check the count of null values in each columns\n",
        "df.isnull().sum()"
      ]
    },
    {
      "cell_type": "code",
      "execution_count": null,
      "metadata": {
        "colab": {
          "base_uri": "https://localhost:8080/"
        },
        "id": "Dwcty-wmJrFw",
        "outputId": "e703054a-ecc5-45c5-8010-37f5d0f84997"
      },
      "outputs": [
        {
          "name": "stdout",
          "output_type": "stream",
          "text": [
            "Index(['_index', '_type', '_id', '_score', '_source.tags', '_source.zip_code',\n",
            "       '_source.complaint_id', '_source.issue', '_source.date_received',\n",
            "       '_source.state', '_source.consumer_disputed', '_source.product',\n",
            "       '_source.company_response', '_source.company', '_source.submitted_via',\n",
            "       '_source.date_sent_to_company', '_source.company_public_response',\n",
            "       '_source.sub_product', '_source.timely',\n",
            "       '_source.complaint_what_happened', '_source.sub_issue',\n",
            "       '_source.consumer_consent_provided'],\n",
            "      dtype='object')\n"
          ]
        }
      ],
      "source": [
        "#print the column names\n",
        "print(df.columns)"
      ]
    },
    {
      "cell_type": "code",
      "execution_count": null,
      "metadata": {
        "id": "FYCtKXD1JrFw"
      },
      "outputs": [],
      "source": [
        "#Assign new column names. One way can be to remove the '_', split with '.' and take the meaningful part from the split \n",
        "df.columns = [column.split('.')[1] if len(column.split('.'))>1 else column.split('.')[0][1:] for column in df.columns]"
      ]
    },
    {
      "cell_type": "code",
      "execution_count": null,
      "metadata": {
        "colab": {
          "base_uri": "https://localhost:8080/"
        },
        "id": "jkcsEIx64ElV",
        "outputId": "d43856fa-574f-4ae5-be2c-3ae7de25476a"
      },
      "outputs": [
        {
          "data": {
            "text/plain": [
              "Index(['index', 'type', 'id', 'score', 'tags', 'zip_code', 'complaint_id',\n",
              "       'issue', 'date_received', 'state', 'consumer_disputed', 'product',\n",
              "       'company_response', 'company', 'submitted_via', 'date_sent_to_company',\n",
              "       'company_public_response', 'sub_product', 'timely',\n",
              "       'complaint_what_happened', 'sub_issue', 'consumer_consent_provided'],\n",
              "      dtype='object')"
            ]
          },
          "execution_count": 9,
          "metadata": {},
          "output_type": "execute_result"
        }
      ],
      "source": [
        "# Check the updated column names\n",
        "df.columns"
      ]
    },
    {
      "cell_type": "code",
      "execution_count": null,
      "metadata": {
        "colab": {
          "base_uri": "https://localhost:8080/"
        },
        "id": "131UGfrg99To",
        "outputId": "6e8bcc6b-2406-4128-ff60-a12c871817e2"
      },
      "outputs": [
        {
          "data": {
            "text/plain": [
              "57241"
            ]
          },
          "execution_count": 10,
          "metadata": {},
          "output_type": "execute_result"
        }
      ],
      "source": [
        "# Check the total blanks in the complaints column\n",
        "len(df[df['complaint_what_happened']==''])"
      ]
    },
    {
      "cell_type": "code",
      "execution_count": null,
      "metadata": {
        "id": "grQUPFL5JrFx"
      },
      "outputs": [],
      "source": [
        "#Assign nan in place of blanks in the complaints column\n",
        "df['complaint_what_happened'] = df['complaint_what_happened'].replace(r'^\\s*$', np.nan, regex=True)"
      ]
    },
    {
      "cell_type": "code",
      "execution_count": null,
      "metadata": {
        "colab": {
          "base_uri": "https://localhost:8080/"
        },
        "id": "2dE8vpbxC0Js",
        "outputId": "dcd8554c-f903-491e-a4db-6127a115e73b"
      },
      "outputs": [
        {
          "data": {
            "text/plain": [
              "57241"
            ]
          },
          "execution_count": 12,
          "metadata": {},
          "output_type": "execute_result"
        }
      ],
      "source": [
        "# Check the total nan\n",
        "df['complaint_what_happened'].isna().sum()"
      ]
    },
    {
      "cell_type": "code",
      "execution_count": null,
      "metadata": {
        "id": "Jfxd8VSmJrFy"
      },
      "outputs": [],
      "source": [
        "#Remove all rows where complaints column is nan\n",
        "df = df[df['complaint_what_happened'].notna()]"
      ]
    },
    {
      "cell_type": "code",
      "execution_count": null,
      "metadata": {
        "id": "sbab_yAzbpBA",
        "outputId": "3e55d00b-4819-4409-da7a-829839e57dd3"
      },
      "outputs": [
        {
          "data": {
            "text/plain": [
              "0"
            ]
          },
          "execution_count": 14,
          "metadata": {},
          "output_type": "execute_result"
        }
      ],
      "source": [
        "# Check the total blanks in the complaints column once again to verify if there are no blank complaints\n",
        "len(df[df['complaint_what_happened']==''])"
      ]
    },
    {
      "cell_type": "markdown",
      "metadata": {
        "id": "q8GW3g0hbpBB"
      },
      "source": [
        "Hence all the blank complaints are removed"
      ]
    },
    {
      "cell_type": "markdown",
      "metadata": {
        "id": "L944HZpsJrFy"
      },
      "source": [
        "## Prepare the text for topic modeling\n",
        "\n",
        "Once you have removed all the blank complaints, you need to:\n",
        "\n",
        "* Make the text lowercase\n",
        "* Remove text in square brackets\n",
        "* Remove punctuation\n",
        "* Remove words containing numbers\n",
        "\n",
        "\n",
        "Once you have done these cleaning operations you need to perform the following:\n",
        "* Lemmatize the texts\n",
        "* Use POS tags to get relevant words from the texts.\n"
      ]
    },
    {
      "cell_type": "code",
      "execution_count": null,
      "metadata": {
        "id": "qm7SjjSkJrFz"
      },
      "outputs": [],
      "source": [
        "# Write your function here to clean the text and remove all the unnecessary elements.\n",
        "def clean_dataframe(data, attribute):\n",
        "    data['Complaint_clean'] = data[attribute].apply(lambda x:x.lower()) # change to lower case\n",
        "    data['Complaint_clean'] = data[attribute].replace(r'\\[[^)]*\\]', '', regex=True) # remove the square brackets text\n",
        "    data['Complaint_clean'] = data[attribute].replace(r'[^\\w\\s]', '', regex=True) # remove punctuation\n",
        "    data['Complaint_clean'] = data[attribute].replace(r'\\w*\\d\\w*', '',  regex=True) # remove words containing numbers\n",
        "    return data.loc[:, [('complaint_what_happened'),('Complaint_clean')]]"
      ]
    },
    {
      "cell_type": "code",
      "execution_count": null,
      "metadata": {
        "id": "zgOu8t8HJrFz"
      },
      "outputs": [],
      "source": [
        "#Write your function to Lemmatize the texts\n",
        "from nltk.stem import WordNetLemmatizer\n",
        "from nltk.tokenize import word_tokenize\n",
        "from nltk.corpus import stopwords\n",
        "\n",
        "# Let us also import and use swifter to speed up the process\n",
        "import swifter\n",
        "\n",
        "wordnet_lemmatizer = WordNetLemmatizer()\n",
        "def preprocess(document):\n",
        "    # tokenize into words\n",
        "    words = word_tokenize(document)\n",
        "     # remove stop words\n",
        "    words = [word for word in words if word not in stopwords.words(\"english\")]\n",
        "    words = [wordnet_lemmatizer.lemmatize(word, pos='v') for word in words]\n",
        "    # join words to make sentence\n",
        "    document = \" \".join(words)\n",
        "    return document\n",
        "\n",
        "def lemmatize_dataframe(data, attribute):\n",
        "    data[attribute] = data[attribute].swifter.apply(preprocess)\n",
        "    return data\n"
      ]
    },
    {
      "cell_type": "code",
      "execution_count": null,
      "metadata": {
        "colab": {
          "base_uri": "https://localhost:8080/",
          "height": 316,
          "referenced_widgets": [
            "9c426340e59e40a69244d7b4c76ad9ff"
          ]
        },
        "id": "uXnN7aa_JrF0",
        "outputId": "640c955d-df44-48e5-e6f1-dcdb8b56e15d"
      },
      "outputs": [
        {
          "data": {
            "application/vnd.jupyter.widget-view+json": {
              "model_id": "9c426340e59e40a69244d7b4c76ad9ff",
              "version_major": 2,
              "version_minor": 0
            },
            "text/plain": [
              "Pandas Apply:   0%|          | 0/21072 [00:00<?, ?it/s]"
            ]
          },
          "metadata": {},
          "output_type": "display_data"
        }
      ],
      "source": [
        "#Create a dataframe('df_clean') that will have only the complaints and the lemmatized complaints \n",
        "df_clean = lemmatize_dataframe(clean_dataframe(df, 'complaint_what_happened'), 'Complaint_clean')"
      ]
    },
    {
      "cell_type": "code",
      "execution_count": null,
      "metadata": {
        "id": "nOiDVvEIJrF0",
        "outputId": "8f63d50f-1e1f-4673-b474-c79d0c30617b"
      },
      "outputs": [
        {
          "data": {
            "text/html": [
              "<div>\n",
              "<style scoped>\n",
              "    .dataframe tbody tr th:only-of-type {\n",
              "        vertical-align: middle;\n",
              "    }\n",
              "\n",
              "    .dataframe tbody tr th {\n",
              "        vertical-align: top;\n",
              "    }\n",
              "\n",
              "    .dataframe thead th {\n",
              "        text-align: right;\n",
              "    }\n",
              "</style>\n",
              "<table border=\"1\" class=\"dataframe\">\n",
              "  <thead>\n",
              "    <tr style=\"text-align: right;\">\n",
              "      <th></th>\n",
              "      <th>complaint_what_happened</th>\n",
              "      <th>Complaint_clean</th>\n",
              "    </tr>\n",
              "  </thead>\n",
              "  <tbody>\n",
              "    <tr>\n",
              "      <th>1</th>\n",
              "      <td>Good morning my name is XXXX XXXX and I apprec...</td>\n",
              "      <td>Good morning name XXXX XXXX I appreciate could...</td>\n",
              "    </tr>\n",
              "    <tr>\n",
              "      <th>2</th>\n",
              "      <td>I upgraded my XXXX XXXX card in XX/XX/2018 and...</td>\n",
              "      <td>I upgrade XXXX XXXX card XX/XX/ tell agent upg...</td>\n",
              "    </tr>\n",
              "    <tr>\n",
              "      <th>10</th>\n",
              "      <td>Chase Card was reported on XX/XX/2019. However...</td>\n",
              "      <td>Chase Card report XX/XX/ . However , fraudulen...</td>\n",
              "    </tr>\n",
              "    <tr>\n",
              "      <th>11</th>\n",
              "      <td>On XX/XX/2018, while trying to book a XXXX  XX...</td>\n",
              "      <td>On XX/XX/ , try book XXXX XXXX ticket , I come...</td>\n",
              "    </tr>\n",
              "    <tr>\n",
              "      <th>14</th>\n",
              "      <td>my grand son give me check for {$1600.00} i de...</td>\n",
              "      <td>grand son give check { $ . } deposit chase acc...</td>\n",
              "    </tr>\n",
              "    <tr>\n",
              "      <th>...</th>\n",
              "      <td>...</td>\n",
              "      <td>...</td>\n",
              "    </tr>\n",
              "    <tr>\n",
              "      <th>78303</th>\n",
              "      <td>After being a Chase Card customer for well ove...</td>\n",
              "      <td>After Chase Card customer well decade , offer ...</td>\n",
              "    </tr>\n",
              "    <tr>\n",
              "      <th>78309</th>\n",
              "      <td>On Wednesday, XX/XX/XXXX I called Chas, my XXX...</td>\n",
              "      <td>On Wednesday , XX/XX/XXXX I call Chas , XXXX X...</td>\n",
              "    </tr>\n",
              "    <tr>\n",
              "      <th>78310</th>\n",
              "      <td>I am not familiar with XXXX pay and did not un...</td>\n",
              "      <td>I familiar XXXX pay understand great risk prov...</td>\n",
              "    </tr>\n",
              "    <tr>\n",
              "      <th>78311</th>\n",
              "      <td>I have had flawless credit for 30 yrs. I've ha...</td>\n",
              "      <td>I flawless credit yrs . I 've Chase credit car...</td>\n",
              "    </tr>\n",
              "    <tr>\n",
              "      <th>78312</th>\n",
              "      <td>Roughly 10+ years ago I closed out my accounts...</td>\n",
              "      <td>Roughly + years ago I close account JP Morgan ...</td>\n",
              "    </tr>\n",
              "  </tbody>\n",
              "</table>\n",
              "<p>21072 rows × 2 columns</p>\n",
              "</div>"
            ],
            "text/plain": [
              "                                 complaint_what_happened  \\\n",
              "1      Good morning my name is XXXX XXXX and I apprec...   \n",
              "2      I upgraded my XXXX XXXX card in XX/XX/2018 and...   \n",
              "10     Chase Card was reported on XX/XX/2019. However...   \n",
              "11     On XX/XX/2018, while trying to book a XXXX  XX...   \n",
              "14     my grand son give me check for {$1600.00} i de...   \n",
              "...                                                  ...   \n",
              "78303  After being a Chase Card customer for well ove...   \n",
              "78309  On Wednesday, XX/XX/XXXX I called Chas, my XXX...   \n",
              "78310  I am not familiar with XXXX pay and did not un...   \n",
              "78311  I have had flawless credit for 30 yrs. I've ha...   \n",
              "78312  Roughly 10+ years ago I closed out my accounts...   \n",
              "\n",
              "                                         Complaint_clean  \n",
              "1      Good morning name XXXX XXXX I appreciate could...  \n",
              "2      I upgrade XXXX XXXX card XX/XX/ tell agent upg...  \n",
              "10     Chase Card report XX/XX/ . However , fraudulen...  \n",
              "11     On XX/XX/ , try book XXXX XXXX ticket , I come...  \n",
              "14     grand son give check { $ . } deposit chase acc...  \n",
              "...                                                  ...  \n",
              "78303  After Chase Card customer well decade , offer ...  \n",
              "78309  On Wednesday , XX/XX/XXXX I call Chas , XXXX X...  \n",
              "78310  I familiar XXXX pay understand great risk prov...  \n",
              "78311  I flawless credit yrs . I 've Chase credit car...  \n",
              "78312  Roughly + years ago I close account JP Morgan ...  \n",
              "\n",
              "[21072 rows x 2 columns]"
            ]
          },
          "execution_count": 18,
          "metadata": {},
          "output_type": "execute_result"
        }
      ],
      "source": [
        "df_clean"
      ]
    },
    {
      "cell_type": "code",
      "execution_count": null,
      "metadata": {
        "id": "Kk7fc4DuJrF1"
      },
      "outputs": [],
      "source": [
        "#Write your function to extract the POS tags \n",
        "model = spacy.load(\"en_core_web_sm\")\n",
        "def preprocess_pos(document):\n",
        "    tokens = model(document)\n",
        "    words = [str(word) for word in tokens if word.pos_ in ['NOUN', 'PRON']]\n",
        "    document = \" \".join(words)\n",
        "    return document\n",
        "\n",
        "def extract_pos(data, attribute):\n",
        "    data['complaint_POS_removed'] = data[attribute].swifter.apply(preprocess_pos)\n",
        "    return data"
      ]
    },
    {
      "cell_type": "code",
      "execution_count": null,
      "metadata": {
        "scrolled": false,
        "colab": {
          "referenced_widgets": [
            "b2123606b6524cab9962097e3b424522"
          ]
        },
        "id": "Q4xrPie8bpBC",
        "outputId": "897c3feb-aec9-46df-cc26-525498304ac4"
      },
      "outputs": [
        {
          "data": {
            "application/vnd.jupyter.widget-view+json": {
              "model_id": "b2123606b6524cab9962097e3b424522",
              "version_major": 2,
              "version_minor": 0
            },
            "text/plain": [
              "Pandas Apply:   0%|          | 0/21072 [00:00<?, ?it/s]"
            ]
          },
          "metadata": {},
          "output_type": "display_data"
        }
      ],
      "source": [
        "df_clean = extract_pos(df_clean, \"Complaint_clean\")"
      ]
    },
    {
      "cell_type": "code",
      "execution_count": null,
      "metadata": {
        "id": "AjxfchvFJrF2",
        "outputId": "b6d8c56b-9990-44b0-dba9-71341c2b252b"
      },
      "outputs": [
        {
          "data": {
            "text/html": [
              "<div>\n",
              "<style scoped>\n",
              "    .dataframe tbody tr th:only-of-type {\n",
              "        vertical-align: middle;\n",
              "    }\n",
              "\n",
              "    .dataframe tbody tr th {\n",
              "        vertical-align: top;\n",
              "    }\n",
              "\n",
              "    .dataframe thead th {\n",
              "        text-align: right;\n",
              "    }\n",
              "</style>\n",
              "<table border=\"1\" class=\"dataframe\">\n",
              "  <thead>\n",
              "    <tr style=\"text-align: right;\">\n",
              "      <th></th>\n",
              "      <th>complaint_what_happened</th>\n",
              "      <th>Complaint_clean</th>\n",
              "      <th>complaint_POS_removed</th>\n",
              "    </tr>\n",
              "  </thead>\n",
              "  <tbody>\n",
              "    <tr>\n",
              "      <th>1</th>\n",
              "      <td>Good morning my name is XXXX XXXX and I apprec...</td>\n",
              "      <td>Good morning name XXXX XXXX I appreciate could...</td>\n",
              "      <td>morning name XXXX XXXX I cardmember service I ...</td>\n",
              "    </tr>\n",
              "    <tr>\n",
              "      <th>2</th>\n",
              "      <td>I upgraded my XXXX XXXX card in XX/XX/2018 and...</td>\n",
              "      <td>I upgrade XXXX XXXX card XX/XX/ tell agent upg...</td>\n",
              "      <td>I XXXX card agent upgrade anniversary date It ...</td>\n",
              "    </tr>\n",
              "    <tr>\n",
              "      <th>10</th>\n",
              "      <td>Chase Card was reported on XX/XX/2019. However...</td>\n",
              "      <td>Chase Card report XX/XX/ . However , fraudulen...</td>\n",
              "      <td>report application submit identity consent ser...</td>\n",
              "    </tr>\n",
              "    <tr>\n",
              "      <th>11</th>\n",
              "      <td>On XX/XX/2018, while trying to book a XXXX  XX...</td>\n",
              "      <td>On XX/XX/ , try book XXXX XXXX ticket , I come...</td>\n",
              "      <td>book ticket I offer ticket I card I informatio...</td>\n",
              "    </tr>\n",
              "    <tr>\n",
              "      <th>14</th>\n",
              "      <td>my grand son give me check for {$1600.00} i de...</td>\n",
              "      <td>grand son give check { $ . } deposit chase acc...</td>\n",
              "      <td>son check account money son money money time c...</td>\n",
              "    </tr>\n",
              "    <tr>\n",
              "      <th>...</th>\n",
              "      <td>...</td>\n",
              "      <td>...</td>\n",
              "      <td>...</td>\n",
              "    </tr>\n",
              "    <tr>\n",
              "      <th>78303</th>\n",
              "      <td>After being a Chase Card customer for well ove...</td>\n",
              "      <td>After Chase Card customer well decade , offer ...</td>\n",
              "      <td>customer decade solicitations credit card bonu...</td>\n",
              "    </tr>\n",
              "    <tr>\n",
              "      <th>78309</th>\n",
              "      <td>On Wednesday, XX/XX/XXXX I called Chas, my XXX...</td>\n",
              "      <td>On Wednesday , XX/XX/XXXX I call Chas , XXXX X...</td>\n",
              "      <td>I provider claim purchase protection benefit I...</td>\n",
              "    </tr>\n",
              "    <tr>\n",
              "      <th>78310</th>\n",
              "      <td>I am not familiar with XXXX pay and did not un...</td>\n",
              "      <td>I familiar XXXX pay understand great risk prov...</td>\n",
              "      <td>I pay risk consumers I bank app I years I deal...</td>\n",
              "    </tr>\n",
              "    <tr>\n",
              "      <th>78311</th>\n",
              "      <td>I have had flawless credit for 30 yrs. I've ha...</td>\n",
              "      <td>I flawless credit yrs . I 've Chase credit car...</td>\n",
              "      <td>I credit yrs I credit card problems I balance ...</td>\n",
              "    </tr>\n",
              "    <tr>\n",
              "      <th>78312</th>\n",
              "      <td>Roughly 10+ years ago I closed out my accounts...</td>\n",
              "      <td>Roughly + years ago I close account JP Morgan ...</td>\n",
              "      <td>years I account line credit I I account paymen...</td>\n",
              "    </tr>\n",
              "  </tbody>\n",
              "</table>\n",
              "<p>21072 rows × 3 columns</p>\n",
              "</div>"
            ],
            "text/plain": [
              "                                 complaint_what_happened  \\\n",
              "1      Good morning my name is XXXX XXXX and I apprec...   \n",
              "2      I upgraded my XXXX XXXX card in XX/XX/2018 and...   \n",
              "10     Chase Card was reported on XX/XX/2019. However...   \n",
              "11     On XX/XX/2018, while trying to book a XXXX  XX...   \n",
              "14     my grand son give me check for {$1600.00} i de...   \n",
              "...                                                  ...   \n",
              "78303  After being a Chase Card customer for well ove...   \n",
              "78309  On Wednesday, XX/XX/XXXX I called Chas, my XXX...   \n",
              "78310  I am not familiar with XXXX pay and did not un...   \n",
              "78311  I have had flawless credit for 30 yrs. I've ha...   \n",
              "78312  Roughly 10+ years ago I closed out my accounts...   \n",
              "\n",
              "                                         Complaint_clean  \\\n",
              "1      Good morning name XXXX XXXX I appreciate could...   \n",
              "2      I upgrade XXXX XXXX card XX/XX/ tell agent upg...   \n",
              "10     Chase Card report XX/XX/ . However , fraudulen...   \n",
              "11     On XX/XX/ , try book XXXX XXXX ticket , I come...   \n",
              "14     grand son give check { $ . } deposit chase acc...   \n",
              "...                                                  ...   \n",
              "78303  After Chase Card customer well decade , offer ...   \n",
              "78309  On Wednesday , XX/XX/XXXX I call Chas , XXXX X...   \n",
              "78310  I familiar XXXX pay understand great risk prov...   \n",
              "78311  I flawless credit yrs . I 've Chase credit car...   \n",
              "78312  Roughly + years ago I close account JP Morgan ...   \n",
              "\n",
              "                                   complaint_POS_removed  \n",
              "1      morning name XXXX XXXX I cardmember service I ...  \n",
              "2      I XXXX card agent upgrade anniversary date It ...  \n",
              "10     report application submit identity consent ser...  \n",
              "11     book ticket I offer ticket I card I informatio...  \n",
              "14     son check account money son money money time c...  \n",
              "...                                                  ...  \n",
              "78303  customer decade solicitations credit card bonu...  \n",
              "78309  I provider claim purchase protection benefit I...  \n",
              "78310  I pay risk consumers I bank app I years I deal...  \n",
              "78311  I credit yrs I credit card problems I balance ...  \n",
              "78312  years I account line credit I I account paymen...  \n",
              "\n",
              "[21072 rows x 3 columns]"
            ]
          },
          "execution_count": 21,
          "metadata": {},
          "output_type": "execute_result"
        }
      ],
      "source": [
        "#The clean dataframe should now contain the raw complaint, lemmatized complaint and the complaint after removing POS tags.\n",
        "df_clean"
      ]
    },
    {
      "cell_type": "markdown",
      "metadata": {
        "id": "_7Un1AElJrF2"
      },
      "source": [
        "## Exploratory data analysis to get familiar with the data.\n",
        "\n",
        "Write the code in this task to perform the following:\n",
        "\n",
        "*   Visualise the data according to the 'Complaint' character length\n",
        "*   Using a word cloud find the top 40 words by frequency among all the articles after processing the text\n",
        "*   Find the top unigrams,bigrams and trigrams by frequency among all the complaints after processing the text. ‘\n",
        "\n",
        "\n"
      ]
    },
    {
      "cell_type": "code",
      "execution_count": null,
      "metadata": {
        "id": "q-zaqJF6JrF2",
        "outputId": "817ea740-9758-4acd-b435-a4f5452989a7"
      },
      "outputs": [
        {
          "data": {
            "image/png": "[encoded data removed]",
            "text/plain": [
              "<Figure size 1440x720 with 1 Axes>"
            ]
          },
          "metadata": {
            "needs_background": "light"
          },
          "output_type": "display_data"
        }
      ],
      "source": [
        "# Write your code here to visualise the data according to the 'Complaint' character length\n",
        "import seaborn as sns\n",
        "char_frequency=df_clean['complaint_what_happened'].apply(lambda x:len(x))\n",
        "font_size={'fontsize': 16}\n",
        "title_font_size={'fontsize': 19}\n",
        "\n",
        "plt.figure(figsize=(20,10))\n",
        "sns.histplot(char_frequency)\n",
        "plt.xlabel('Character length', fontdict=font_size)\n",
        "plt.ylabel('Frequency', fontdict=font_size)\n",
        "plt.title('Character length distribution', fontdict=title_font_size)\n",
        "plt.show()"
      ]
    },
    {
      "cell_type": "markdown",
      "metadata": {
        "id": "T9jD_6SeJrF3"
      },
      "source": [
        "#### Find the top 40 words by frequency among all the articles after processing the text."
      ]
    },
    {
      "cell_type": "code",
      "execution_count": null,
      "metadata": {
        "id": "QcfdvtfZJrF3",
        "outputId": "8bc5fa43-e69f-4604-e78b-b56a3edf8879"
      },
      "outputs": [
        {
          "data": {
            "image/png": "[encoded data removed]",
            "text/plain": [
              "<Figure size 1080x720 with 1 Axes>"
            ]
          },
          "metadata": {
            "needs_background": "light"
          },
          "output_type": "display_data"
        }
      ],
      "source": [
        "#Using a word cloud find the top 40 words by frequency among all the articles after processing the text\n",
        "from wordcloud import WordCloud\n",
        "\n",
        "text=\"\".join (words for words in df_clean['complaint_POS_removed'])\n",
        "wordcloud = WordCloud(max_words=40, ).generate(text)\n",
        "\n",
        "plt.figure(figsize=(15,10))\n",
        "plt.imshow(wordcloud, interpolation='bilinear')\n",
        "plt.axis(\"off\")\n",
        "plt.show()"
      ]
    },
    {
      "cell_type": "code",
      "execution_count": null,
      "metadata": {
        "id": "OkSmc3UaJrF4"
      },
      "outputs": [],
      "source": [
        "#Removing -PRON- from the text corpus\n",
        "df_clean['Complaint_clean'] = df_clean['complaint_POS_removed'].str.replace('-PRON-', '')"
      ]
    },
    {
      "cell_type": "markdown",
      "metadata": {
        "id": "5DfCSbbmJrF4"
      },
      "source": [
        "#### Find the top unigrams,bigrams and trigrams by frequency among all the complaints after processing the text."
      ]
    },
    {
      "cell_type": "code",
      "execution_count": null,
      "metadata": {
        "id": "wiLwjjQobpBD"
      },
      "outputs": [],
      "source": [
        "# Import ngram and frequency distribution library from nltk\n",
        "from nltk import ngrams, FreqDist\n",
        "UNIGRAM =1\n",
        "BIGRAM = 2\n",
        "TRIGRAM = 3"
      ]
    },
    {
      "cell_type": "code",
      "execution_count": null,
      "metadata": {
        "id": "-7gNa-A3bpBD"
      },
      "outputs": [],
      "source": [
        "# Let us define a custom function to return ngram using the formula number of tokens-ngram+1\n",
        "def ngram_for(text, n_gram=1):\n",
        "    tokens = re.split(\"\\\\s\", text)\n",
        "    ngram=[]\n",
        "    for i in range(len(tokens)-n_gram+1):\n",
        "        temp= [tokens[j] for j in range(i, i + n_gram)]\n",
        "        ngram.append(\" \".join(temp))\n",
        "    return ngram"
      ]
    },
    {
      "cell_type": "markdown",
      "metadata": {
        "id": "XtJo8LV2bpBE"
      },
      "source": [
        "Let us define another function to solve the same purpose as the above function to return the ngram. This function will utilize the inbuilt ngram method of the nltk library. So we can use either of these functions."
      ]
    },
    {
      "cell_type": "code",
      "execution_count": null,
      "metadata": {
        "id": "Dx8kepRdbpBE"
      },
      "outputs": [],
      "source": [
        "# Let us define another function to return ngram using inbuilt ngram method\n",
        "def get_ngram(text, n_gram=1):\n",
        "    grams_list=[]\n",
        "    for grams in ngrams(text.split(), n_gram):\n",
        "        grams_list.append(grams)\n",
        "    return grams_list"
      ]
    },
    {
      "cell_type": "code",
      "execution_count": null,
      "metadata": {
        "id": "5mbk5DS5JrF4",
        "outputId": "a383db28-7de2-48ae-e5fc-141f9c38ee9f"
      },
      "outputs": [
        {
          "data": {
            "text/plain": [
              "[('I', 179292),\n",
              " ('XXXX', 54931),\n",
              " ('account', 42238),\n",
              " ('credit', 29726),\n",
              " ('card', 26156),\n",
              " ('bank', 15844),\n",
              " ('time', 15608),\n",
              " ('charge', 13600),\n",
              " ('payment', 13209),\n",
              " ('check', 11435),\n",
              " ('money', 11018),\n",
              " ('call', 10221),\n",
              " ('loan', 9763),\n",
              " ('report', 9713),\n",
              " ('They', 9447),\n",
              " ('information', 9158),\n",
              " ('letter', 9000),\n",
              " ('state', 8298),\n",
              " ('fee', 8284),\n",
              " ('amount', 7945),\n",
              " ('number', 7925),\n",
              " ('phone', 7136),\n",
              " ('days', 7129),\n",
              " ('company', 6992),\n",
              " ('balance', 6956),\n",
              " ('payments', 6848),\n",
              " ('fund', 6563),\n",
              " ('service', 6456),\n",
              " ('dispute', 6399),\n",
              " ('mortgage', 6346)]"
            ]
          },
          "execution_count": 28,
          "metadata": {},
          "output_type": "execute_result"
        }
      ],
      "source": [
        "#Write your code here to find the top 30 unigram frequency among the complaints in the cleaned datafram(df_clean). \n",
        "ugram = FreqDist(ngram_for(text, UNIGRAM)).most_common(30)\n",
        "ugram"
      ]
    },
    {
      "cell_type": "code",
      "execution_count": null,
      "metadata": {
        "id": "YX7fedm1JrF8",
        "outputId": "91cee83b-cfd9-42fa-827c-6b0ca6b95d1d"
      },
      "outputs": [
        {
          "data": {
            "text/plain": [
              "['I',\n",
              " 'XXXX',\n",
              " 'account',\n",
              " 'credit',\n",
              " 'card',\n",
              " 'bank',\n",
              " 'time',\n",
              " 'charge',\n",
              " 'payment',\n",
              " 'check']"
            ]
          },
          "execution_count": 29,
          "metadata": {},
          "output_type": "execute_result"
        }
      ],
      "source": [
        "#Print the top 10 words in the unigram frequency\n",
        "ugramwords=[]\n",
        "for i in range(len(ugram)):\n",
        "    ugramwords.append(ugram[i][0])\n",
        "top10_words = [x for x in ugramwords if x in set(ugramwords)][:10]\n",
        "top10_words"
      ]
    },
    {
      "cell_type": "code",
      "execution_count": null,
      "metadata": {
        "id": "aV7kD7w8JrF8",
        "outputId": "c975aaa6-c8e0-4e95-dc9c-dc0c742049ce"
      },
      "outputs": [
        {
          "data": {
            "text/plain": [
              "[('XXXX XXXX', 27141),\n",
              " ('I I', 18772),\n",
              " ('credit card', 10627),\n",
              " ('account I', 8250),\n",
              " ('I account', 5458),\n",
              " ('XXXX I', 5445),\n",
              " ('I credit', 4746),\n",
              " ('card I', 4459),\n",
              " ('credit report', 4006),\n",
              " ('time I', 3571),\n",
              " ('I bank', 3469),\n",
              " ('I XXXX', 3247),\n",
              " ('check account', 3010),\n",
              " ('I card', 2819),\n",
              " ('I letter', 2712),\n",
              " ('I time', 2699),\n",
              " ('I payment', 2678),\n",
              " ('customer service', 2525),\n",
              " ('I money', 2449),\n",
              " ('charge I', 2161),\n",
              " ('I charge', 2086),\n",
              " ('money I', 1991),\n",
              " ('I call', 1935),\n",
              " ('payment I', 1879),\n",
              " ('bank account', 1775),\n",
              " ('days I', 1762),\n",
              " ('I customer', 1715),\n",
              " ('debit card', 1713),\n",
              " ('I check', 1648),\n",
              " ('phone call', 1571)]"
            ]
          },
          "execution_count": 30,
          "metadata": {},
          "output_type": "execute_result"
        }
      ],
      "source": [
        "#Write your code here to find the top 30 bigram frequency among the complaints in the cleaned datafram(df_clean). \n",
        "bigram = FreqDist(ngram_for(text, BIGRAM)).most_common(30)\n",
        "bigram"
      ]
    },
    {
      "cell_type": "code",
      "execution_count": null,
      "metadata": {
        "id": "NPnMNIpyJrF9",
        "outputId": "b0d7a756-338c-4a15-9d9c-242a9e0440f6"
      },
      "outputs": [
        {
          "data": {
            "text/plain": [
              "['XXXX',\n",
              " 'I',\n",
              " 'credit',\n",
              " 'card',\n",
              " 'account',\n",
              " 'report',\n",
              " 'time',\n",
              " 'bank',\n",
              " 'check',\n",
              " 'letter']"
            ]
          },
          "execution_count": 31,
          "metadata": {},
          "output_type": "execute_result"
        }
      ],
      "source": [
        "#Print the top 10 words in the bigram frequency\n",
        "bigramwords={}\n",
        "\n",
        "for i in range(len(bigram)):\n",
        "    bigramwords[bigram[i][0].split(\" \")[0]]= bigram[i][1]\n",
        "    bigramwords[bigram[i][0].split(\" \")[1]]= bigram[i][1]\n",
        "list(bigramwords.keys())[:10]"
      ]
    },
    {
      "cell_type": "code",
      "execution_count": null,
      "metadata": {
        "id": "Xkh7vtbtJrF-",
        "outputId": "9fcc1d50-6ecd-449f-9cf3-de55fd1eb878"
      },
      "outputs": [
        {
          "data": {
            "text/plain": [
              "[('XXXX XXXX XXXX', 15115),\n",
              " ('XXXX XXXX I', 2377),\n",
              " ('I credit card', 2140),\n",
              " ('I I I', 2125),\n",
              " ('credit card I', 1526),\n",
              " ('I XXXX XXXX', 1248),\n",
              " ('I account I', 1171),\n",
              " ('_ _ _', 1073),\n",
              " ('I customer service', 978),\n",
              " ('credit card account', 861),\n",
              " ('account I I', 856),\n",
              " ('credit report I', 819),\n",
              " ('credit card company', 816),\n",
              " ('check account I', 672),\n",
              " ('I card I', 606),\n",
              " ('account I account', 580),\n",
              " ('I I account', 563),\n",
              " ('I time I', 548),\n",
              " ('I money I', 542),\n",
              " ('card I I', 516),\n",
              " ('I I credit', 493),\n",
              " ('I payment I', 492),\n",
              " ('XXXX I I', 468),\n",
              " ('I XXXX I', 459),\n",
              " ('I credit report', 426),\n",
              " ('I charge I', 411),\n",
              " ('time I I', 409),\n",
              " ('I check account', 402),\n",
              " ('I phone call', 389),\n",
              " ('I bank account', 387)]"
            ]
          },
          "execution_count": 32,
          "metadata": {},
          "output_type": "execute_result"
        }
      ],
      "source": [
        "#Write your code here to find the top 30 trigram frequency among the complaints in the cleaned datafram(df_clean). \n",
        "trigram = FreqDist(ngram_for(text, TRIGRAM)).most_common(30)\n",
        "trigram"
      ]
    },
    {
      "cell_type": "code",
      "execution_count": null,
      "metadata": {
        "id": "REcVxNfvJrF-",
        "outputId": "dd7e63eb-1f8f-4266-bd6a-1aab0062bac4"
      },
      "outputs": [
        {
          "data": {
            "text/plain": [
              "['XXXX',\n",
              " 'I',\n",
              " 'credit',\n",
              " 'card',\n",
              " 'account',\n",
              " '_',\n",
              " 'customer',\n",
              " 'service',\n",
              " 'report',\n",
              " 'company']"
            ]
          },
          "execution_count": 33,
          "metadata": {},
          "output_type": "execute_result"
        }
      ],
      "source": [
        "#Print the top 10 words in the trigram frequency\n",
        "trigramwords={}\n",
        "\n",
        "for i in range(len(trigram)):\n",
        "    trigramwords[trigram[i][0].split(\" \")[0]]= trigram[i][1]\n",
        "    trigramwords[trigram[i][0].split(\" \")[1]]= trigram[i][1]\n",
        "    trigramwords[trigram[i][0].split(\" \")[2]]= trigram[i][1]\n",
        "list(trigramwords.keys())[:10]"
      ]
    },
    {
      "cell_type": "markdown",
      "metadata": {
        "id": "yUXzFji0JrF_"
      },
      "source": [
        "## The personal details of customer has been masked in the dataset with xxxx. Let's remove the masked text as this will be of no use for our analysis"
      ]
    },
    {
      "cell_type": "code",
      "execution_count": null,
      "metadata": {
        "id": "wKda-a_IJrF_"
      },
      "outputs": [],
      "source": [
        "df_clean['Complaint_clean'] = df_clean['Complaint_clean'].str.replace('XXXX','')"
      ]
    },
    {
      "cell_type": "code",
      "execution_count": null,
      "metadata": {
        "id": "9UIFk8fQJrF_",
        "outputId": "35ea187c-b8a0-4b19-e597-7fd0056ac5c7"
      },
      "outputs": [
        {
          "data": {
            "text/html": [
              "<div>\n",
              "<style scoped>\n",
              "    .dataframe tbody tr th:only-of-type {\n",
              "        vertical-align: middle;\n",
              "    }\n",
              "\n",
              "    .dataframe tbody tr th {\n",
              "        vertical-align: top;\n",
              "    }\n",
              "\n",
              "    .dataframe thead th {\n",
              "        text-align: right;\n",
              "    }\n",
              "</style>\n",
              "<table border=\"1\" class=\"dataframe\">\n",
              "  <thead>\n",
              "    <tr style=\"text-align: right;\">\n",
              "      <th></th>\n",
              "      <th>complaint_what_happened</th>\n",
              "      <th>Complaint_clean</th>\n",
              "      <th>complaint_POS_removed</th>\n",
              "    </tr>\n",
              "  </thead>\n",
              "  <tbody>\n",
              "    <tr>\n",
              "      <th>1</th>\n",
              "      <td>Good morning my name is XXXX XXXX and I apprec...</td>\n",
              "      <td>morning name   I cardmember service I debt ver...</td>\n",
              "      <td>morning name XXXX XXXX I cardmember service I ...</td>\n",
              "    </tr>\n",
              "    <tr>\n",
              "      <th>2</th>\n",
              "      <td>I upgraded my XXXX XXXX card in XX/XX/2018 and...</td>\n",
              "      <td>I  card agent upgrade anniversary date It agen...</td>\n",
              "      <td>I XXXX card agent upgrade anniversary date It ...</td>\n",
              "    </tr>\n",
              "    <tr>\n",
              "      <th>10</th>\n",
              "      <td>Chase Card was reported on XX/XX/2019. However...</td>\n",
              "      <td>report application submit identity consent ser...</td>\n",
              "      <td>report application submit identity consent ser...</td>\n",
              "    </tr>\n",
              "    <tr>\n",
              "      <th>11</th>\n",
              "      <td>On XX/XX/2018, while trying to book a XXXX  XX...</td>\n",
              "      <td>book ticket I offer ticket I card I informatio...</td>\n",
              "      <td>book ticket I offer ticket I card I informatio...</td>\n",
              "    </tr>\n",
              "    <tr>\n",
              "      <th>14</th>\n",
              "      <td>my grand son give me check for {$1600.00} i de...</td>\n",
              "      <td>son check account money son money money time c...</td>\n",
              "      <td>son check account money son money money time c...</td>\n",
              "    </tr>\n",
              "    <tr>\n",
              "      <th>...</th>\n",
              "      <td>...</td>\n",
              "      <td>...</td>\n",
              "      <td>...</td>\n",
              "    </tr>\n",
              "    <tr>\n",
              "      <th>78303</th>\n",
              "      <td>After being a Chase Card customer for well ove...</td>\n",
              "      <td>customer decade solicitations credit card bonu...</td>\n",
              "      <td>customer decade solicitations credit card bonu...</td>\n",
              "    </tr>\n",
              "    <tr>\n",
              "      <th>78309</th>\n",
              "      <td>On Wednesday, XX/XX/XXXX I called Chas, my XXX...</td>\n",
              "      <td>I provider claim purchase protection benefit I...</td>\n",
              "      <td>I provider claim purchase protection benefit I...</td>\n",
              "    </tr>\n",
              "    <tr>\n",
              "      <th>78310</th>\n",
              "      <td>I am not familiar with XXXX pay and did not un...</td>\n",
              "      <td>I pay risk consumers I bank app I years I deal...</td>\n",
              "      <td>I pay risk consumers I bank app I years I deal...</td>\n",
              "    </tr>\n",
              "    <tr>\n",
              "      <th>78311</th>\n",
              "      <td>I have had flawless credit for 30 yrs. I've ha...</td>\n",
              "      <td>I credit yrs I credit card problems I balance ...</td>\n",
              "      <td>I credit yrs I credit card problems I balance ...</td>\n",
              "    </tr>\n",
              "    <tr>\n",
              "      <th>78312</th>\n",
              "      <td>Roughly 10+ years ago I closed out my accounts...</td>\n",
              "      <td>years I account line credit I I account paymen...</td>\n",
              "      <td>years I account line credit I I account paymen...</td>\n",
              "    </tr>\n",
              "  </tbody>\n",
              "</table>\n",
              "<p>21072 rows × 3 columns</p>\n",
              "</div>"
            ],
            "text/plain": [
              "                                 complaint_what_happened  \\\n",
              "1      Good morning my name is XXXX XXXX and I apprec...   \n",
              "2      I upgraded my XXXX XXXX card in XX/XX/2018 and...   \n",
              "10     Chase Card was reported on XX/XX/2019. However...   \n",
              "11     On XX/XX/2018, while trying to book a XXXX  XX...   \n",
              "14     my grand son give me check for {$1600.00} i de...   \n",
              "...                                                  ...   \n",
              "78303  After being a Chase Card customer for well ove...   \n",
              "78309  On Wednesday, XX/XX/XXXX I called Chas, my XXX...   \n",
              "78310  I am not familiar with XXXX pay and did not un...   \n",
              "78311  I have had flawless credit for 30 yrs. I've ha...   \n",
              "78312  Roughly 10+ years ago I closed out my accounts...   \n",
              "\n",
              "                                         Complaint_clean  \\\n",
              "1      morning name   I cardmember service I debt ver...   \n",
              "2      I  card agent upgrade anniversary date It agen...   \n",
              "10     report application submit identity consent ser...   \n",
              "11     book ticket I offer ticket I card I informatio...   \n",
              "14     son check account money son money money time c...   \n",
              "...                                                  ...   \n",
              "78303  customer decade solicitations credit card bonu...   \n",
              "78309  I provider claim purchase protection benefit I...   \n",
              "78310  I pay risk consumers I bank app I years I deal...   \n",
              "78311  I credit yrs I credit card problems I balance ...   \n",
              "78312  years I account line credit I I account paymen...   \n",
              "\n",
              "                                   complaint_POS_removed  \n",
              "1      morning name XXXX XXXX I cardmember service I ...  \n",
              "2      I XXXX card agent upgrade anniversary date It ...  \n",
              "10     report application submit identity consent ser...  \n",
              "11     book ticket I offer ticket I card I informatio...  \n",
              "14     son check account money son money money time c...  \n",
              "...                                                  ...  \n",
              "78303  customer decade solicitations credit card bonu...  \n",
              "78309  I provider claim purchase protection benefit I...  \n",
              "78310  I pay risk consumers I bank app I years I deal...  \n",
              "78311  I credit yrs I credit card problems I balance ...  \n",
              "78312  years I account line credit I I account paymen...  \n",
              "\n",
              "[21072 rows x 3 columns]"
            ]
          },
          "execution_count": 35,
          "metadata": {},
          "output_type": "execute_result"
        }
      ],
      "source": [
        "#All masked texts has been removed\n",
        "df_clean"
      ]
    },
    {
      "cell_type": "markdown",
      "metadata": {
        "id": "k-I0k0QtJrGA"
      },
      "source": [
        "## Feature Extraction\n",
        "Convert the raw texts to a matrix of TF-IDF features\n",
        "\n",
        "**max_df** is used for removing terms that appear too frequently, also known as \"corpus-specific stop words\"\n",
        "max_df = 0.95 means \"ignore terms that appear in more than 95% of the complaints\"\n",
        "\n",
        "**min_df** is used for removing terms that appear too infrequently\n",
        "min_df = 2 means \"ignore terms that appear in less than 2 complaints\""
      ]
    },
    {
      "cell_type": "code",
      "execution_count": null,
      "metadata": {
        "id": "Y8fGwaCPJrGA"
      },
      "outputs": [],
      "source": [
        "#Write your code here to initialise the TfidfVectorizer \n",
        "tfidf = TfidfVectorizer(max_df = 0.95, min_df = 2, stop_words='english')"
      ]
    },
    {
      "cell_type": "markdown",
      "metadata": {
        "id": "yYzD85nTJrGA"
      },
      "source": [
        "#### Create a document term matrix using fit_transform\n",
        "\n",
        "The contents of a document term matrix are tuples of (complaint_id,token_id) tf-idf score:\n",
        "The tuples that are not there have a tf-idf score of 0"
      ]
    },
    {
      "cell_type": "code",
      "execution_count": null,
      "metadata": {
        "id": "ffzdDpp_JrGB",
        "outputId": "c4230340-5aac-4fa2-e36c-53a2595ef911"
      },
      "outputs": [
        {
          "name": "stdout",
          "output_type": "stream",
          "text": [
            "[[0. 0. 0. ... 0. 0. 0.]\n",
            " [0. 0. 0. ... 0. 0. 0.]\n",
            " [0. 0. 0. ... 0. 0. 0.]\n",
            " ...\n",
            " [0. 0. 0. ... 0. 0. 0.]\n",
            " [0. 0. 0. ... 0. 0. 0.]\n",
            " [0. 0. 0. ... 0. 0. 0.]]\n"
          ]
        }
      ],
      "source": [
        "#Write your code here to create the Document Term Matrix by transforming the complaints column present in df_clean.\n",
        "dtm = tfidf.fit_transform(df_clean['Complaint_clean']).toarray()\n",
        "print(dtm)  # returns the row number and column number of cells which have 1 as value"
      ]
    },
    {
      "cell_type": "markdown",
      "metadata": {
        "id": "7Q9lwvNEJrGB"
      },
      "source": [
        "## Topic Modelling using NMF\n",
        "\n",
        "Non-Negative Matrix Factorization (NMF) is an unsupervised technique so there are no labeling of topics that the model will be trained on. The way it works is that, NMF decomposes (or factorizes) high-dimensional vectors into a lower-dimensional representation. These lower-dimensional vectors are non-negative which also means their coefficients are non-negative.\n",
        "\n",
        "In this task you have to perform the following:\n",
        "\n",
        "* Find the best number of clusters \n",
        "* Apply the best number to create word clusters\n",
        "* Inspect & validate the correction of each cluster wrt the complaints \n",
        "* Correct the labels if needed \n",
        "* Map the clusters to topics/cluster names"
      ]
    },
    {
      "cell_type": "code",
      "execution_count": null,
      "metadata": {
        "id": "amLT4omWJrGB"
      },
      "outputs": [],
      "source": [
        "from sklearn.decomposition import NMF"
      ]
    },
    {
      "cell_type": "markdown",
      "metadata": {
        "id": "0wYR1xUTJrGD"
      },
      "source": [
        "## Manual Topic Modeling\n",
        "You need to do take the trial & error approach to find the best num of topics for your NMF model.\n",
        "\n",
        "The only parameter that is required is the number of components i.e. the number of topics we want. This is the most crucial step in the whole topic modeling process and will greatly affect how good your final topics are."
      ]
    },
    {
      "cell_type": "code",
      "execution_count": null,
      "metadata": {
        "id": "sgd2A6bhJrGD"
      },
      "outputs": [],
      "source": [
        "#Load your nmf_model with the n_components i.e 5\n",
        "num_topics = 5 #write the value you want to test out\n",
        "\n",
        "#keep the random_state =40\n",
        "nmf_model = NMF(n_components=num_topics, random_state =40, max_iter=dtm.shape[0] ) #write your code here"
      ]
    },
    {
      "cell_type": "code",
      "execution_count": null,
      "metadata": {
        "id": "VPMDYbt_JrGE",
        "outputId": "253e834e-1867-43c8-d0bf-de51fd360776"
      },
      "outputs": [
        {
          "data": {
            "text/plain": [
              "7132"
            ]
          },
          "execution_count": 40,
          "metadata": {},
          "output_type": "execute_result"
        }
      ],
      "source": [
        "nmf_model.fit(dtm)\n",
        "len(tfidf.get_feature_names())"
      ]
    },
    {
      "cell_type": "code",
      "execution_count": null,
      "metadata": {
        "id": "16kRfat5JrGE",
        "scrolled": true,
        "outputId": "38c1840e-dbbd-4b6d-f92e-b3adb2dd1f7d"
      },
      "outputs": [
        {
          "data": {
            "text/html": [
              "<div>\n",
              "<style scoped>\n",
              "    .dataframe tbody tr th:only-of-type {\n",
              "        vertical-align: middle;\n",
              "    }\n",
              "\n",
              "    .dataframe tbody tr th {\n",
              "        vertical-align: top;\n",
              "    }\n",
              "\n",
              "    .dataframe thead th {\n",
              "        text-align: right;\n",
              "    }\n",
              "</style>\n",
              "<table border=\"1\" class=\"dataframe\">\n",
              "  <thead>\n",
              "    <tr style=\"text-align: right;\">\n",
              "      <th></th>\n",
              "      <th>Word 1</th>\n",
              "      <th>Word 2</th>\n",
              "      <th>Word 3</th>\n",
              "      <th>Word 4</th>\n",
              "      <th>Word 5</th>\n",
              "      <th>Word 6</th>\n",
              "      <th>Word 7</th>\n",
              "      <th>Word 8</th>\n",
              "      <th>Word 9</th>\n",
              "      <th>Word 10</th>\n",
              "      <th>Word 11</th>\n",
              "      <th>Word 12</th>\n",
              "      <th>Word 13</th>\n",
              "      <th>Word 14</th>\n",
              "      <th>Word 15</th>\n",
              "    </tr>\n",
              "  </thead>\n",
              "  <tbody>\n",
              "    <tr>\n",
              "      <th>Topic 1</th>\n",
              "      <td>account</td>\n",
              "      <td>check</td>\n",
              "      <td>bank</td>\n",
              "      <td>money</td>\n",
              "      <td>fund</td>\n",
              "      <td>deposit</td>\n",
              "      <td>branch</td>\n",
              "      <td>number</td>\n",
              "      <td>transfer</td>\n",
              "      <td>business</td>\n",
              "      <td>days</td>\n",
              "      <td>claim</td>\n",
              "      <td>chase</td>\n",
              "      <td>time</td>\n",
              "      <td>transaction</td>\n",
              "    </tr>\n",
              "    <tr>\n",
              "      <th>Topic 2</th>\n",
              "      <td>credit</td>\n",
              "      <td>report</td>\n",
              "      <td>inquiry</td>\n",
              "      <td>inquiries</td>\n",
              "      <td>account</td>\n",
              "      <td>score</td>\n",
              "      <td>debt</td>\n",
              "      <td>card</td>\n",
              "      <td>information</td>\n",
              "      <td>bureaus</td>\n",
              "      <td>company</td>\n",
              "      <td>remove</td>\n",
              "      <td>identity</td>\n",
              "      <td>letter</td>\n",
              "      <td>limit</td>\n",
              "    </tr>\n",
              "    <tr>\n",
              "      <th>Topic 3</th>\n",
              "      <td>loan</td>\n",
              "      <td>mortgage</td>\n",
              "      <td>modification</td>\n",
              "      <td>home</td>\n",
              "      <td>property</td>\n",
              "      <td>letter</td>\n",
              "      <td>time</td>\n",
              "      <td>document</td>\n",
              "      <td>payments</td>\n",
              "      <td>rate</td>\n",
              "      <td>years</td>\n",
              "      <td>foreclosure</td>\n",
              "      <td>request</td>\n",
              "      <td>refinance</td>\n",
              "      <td>information</td>\n",
              "    </tr>\n",
              "    <tr>\n",
              "      <th>Topic 4</th>\n",
              "      <td>card</td>\n",
              "      <td>charge</td>\n",
              "      <td>credit</td>\n",
              "      <td>dispute</td>\n",
              "      <td>purchase</td>\n",
              "      <td>fee</td>\n",
              "      <td>fraud</td>\n",
              "      <td>time</td>\n",
              "      <td>company</td>\n",
              "      <td>service</td>\n",
              "      <td>merchant</td>\n",
              "      <td>refund</td>\n",
              "      <td>balance</td>\n",
              "      <td>transaction</td>\n",
              "      <td>use</td>\n",
              "    </tr>\n",
              "    <tr>\n",
              "      <th>Topic 5</th>\n",
              "      <td>payment</td>\n",
              "      <td>payments</td>\n",
              "      <td>fee</td>\n",
              "      <td>balance</td>\n",
              "      <td>month</td>\n",
              "      <td>pay</td>\n",
              "      <td>statement</td>\n",
              "      <td>time</td>\n",
              "      <td>date</td>\n",
              "      <td>auto</td>\n",
              "      <td>mortgage</td>\n",
              "      <td>days</td>\n",
              "      <td>statements</td>\n",
              "      <td>months</td>\n",
              "      <td>day</td>\n",
              "    </tr>\n",
              "  </tbody>\n",
              "</table>\n",
              "</div>"
            ],
            "text/plain": [
              "          Word 1    Word 2        Word 3     Word 4    Word 5   Word 6  \\\n",
              "Topic 1  account     check          bank      money      fund  deposit   \n",
              "Topic 2   credit    report       inquiry  inquiries   account    score   \n",
              "Topic 3     loan  mortgage  modification       home  property   letter   \n",
              "Topic 4     card    charge        credit    dispute  purchase      fee   \n",
              "Topic 5  payment  payments           fee    balance     month      pay   \n",
              "\n",
              "            Word 7    Word 8       Word 9   Word 10   Word 11      Word 12  \\\n",
              "Topic 1     branch    number     transfer  business      days        claim   \n",
              "Topic 2       debt      card  information   bureaus   company       remove   \n",
              "Topic 3       time  document     payments      rate     years  foreclosure   \n",
              "Topic 4      fraud      time      company   service  merchant       refund   \n",
              "Topic 5  statement      time         date      auto  mortgage         days   \n",
              "\n",
              "            Word 13      Word 14      Word 15  \n",
              "Topic 1       chase         time  transaction  \n",
              "Topic 2    identity       letter        limit  \n",
              "Topic 3     request    refinance  information  \n",
              "Topic 4     balance  transaction          use  \n",
              "Topic 5  statements       months          day  "
            ]
          },
          "execution_count": 41,
          "metadata": {},
          "output_type": "execute_result"
        }
      ],
      "source": [
        "#Print the Top15 words for each of the topics\n",
        "\n",
        "W = nmf_model.fit_transform(dtm)  # Document-topic matrix\n",
        "H = nmf_model.components_       # Topic-term matrix\n",
        "words = np.array(tfidf.get_feature_names())\n",
        "topic_words = pd.DataFrame(np.zeros((num_topics, 15)), index=[f'Topic {i + 1}' for i in range(num_topics)],\n",
        "                           columns=[f'Word {i + 1}' for i in range(15)]).astype(str)\n",
        "for i in range(num_topics):\n",
        "    ix = H[i].argsort()[::-1][:15]\n",
        "    topic_words.iloc[i] = words[ix]\n",
        "\n",
        "topic_words"
      ]
    },
    {
      "cell_type": "code",
      "execution_count": null,
      "metadata": {
        "id": "0OIT7LmFJrGF"
      },
      "outputs": [],
      "source": [
        "#Create the best topic for each complaint in terms of integer value 0,1,2,3 & 4\n",
        "results = nmf_model.transform(dtm)\n",
        "best_topics = results.argmax(axis=1)"
      ]
    },
    {
      "cell_type": "code",
      "execution_count": null,
      "metadata": {
        "id": "peyYv-ORJrGF"
      },
      "outputs": [],
      "source": [
        "#Assign the best topic to each of the cmplaints in Topic Column\n",
        "\n",
        "df_clean['Topic'] = best_topics #write your code to assign topics to each rows."
      ]
    },
    {
      "cell_type": "code",
      "execution_count": null,
      "metadata": {
        "id": "fLh_Gf3nJrGF",
        "outputId": "a25f9d0c-3e70-42b4-a779-d1e690f710f6"
      },
      "outputs": [
        {
          "data": {
            "text/html": [
              "<div>\n",
              "<style scoped>\n",
              "    .dataframe tbody tr th:only-of-type {\n",
              "        vertical-align: middle;\n",
              "    }\n",
              "\n",
              "    .dataframe tbody tr th {\n",
              "        vertical-align: top;\n",
              "    }\n",
              "\n",
              "    .dataframe thead th {\n",
              "        text-align: right;\n",
              "    }\n",
              "</style>\n",
              "<table border=\"1\" class=\"dataframe\">\n",
              "  <thead>\n",
              "    <tr style=\"text-align: right;\">\n",
              "      <th></th>\n",
              "      <th>complaint_what_happened</th>\n",
              "      <th>Complaint_clean</th>\n",
              "      <th>complaint_POS_removed</th>\n",
              "      <th>Topic</th>\n",
              "    </tr>\n",
              "  </thead>\n",
              "  <tbody>\n",
              "    <tr>\n",
              "      <th>1</th>\n",
              "      <td>Good morning my name is XXXX XXXX and I apprec...</td>\n",
              "      <td>morning name   I cardmember service I debt ver...</td>\n",
              "      <td>morning name XXXX XXXX I cardmember service I ...</td>\n",
              "      <td>0</td>\n",
              "    </tr>\n",
              "    <tr>\n",
              "      <th>2</th>\n",
              "      <td>I upgraded my XXXX XXXX card in XX/XX/2018 and...</td>\n",
              "      <td>I  card agent upgrade anniversary date It agen...</td>\n",
              "      <td>I XXXX card agent upgrade anniversary date It ...</td>\n",
              "      <td>3</td>\n",
              "    </tr>\n",
              "    <tr>\n",
              "      <th>10</th>\n",
              "      <td>Chase Card was reported on XX/XX/2019. However...</td>\n",
              "      <td>report application submit identity consent ser...</td>\n",
              "      <td>report application submit identity consent ser...</td>\n",
              "      <td>1</td>\n",
              "    </tr>\n",
              "    <tr>\n",
              "      <th>11</th>\n",
              "      <td>On XX/XX/2018, while trying to book a XXXX  XX...</td>\n",
              "      <td>book ticket I offer ticket I card I informatio...</td>\n",
              "      <td>book ticket I offer ticket I card I informatio...</td>\n",
              "      <td>1</td>\n",
              "    </tr>\n",
              "    <tr>\n",
              "      <th>14</th>\n",
              "      <td>my grand son give me check for {$1600.00} i de...</td>\n",
              "      <td>son check account money son money money time c...</td>\n",
              "      <td>son check account money son money money time c...</td>\n",
              "      <td>0</td>\n",
              "    </tr>\n",
              "  </tbody>\n",
              "</table>\n",
              "</div>"
            ],
            "text/plain": [
              "                              complaint_what_happened  \\\n",
              "1   Good morning my name is XXXX XXXX and I apprec...   \n",
              "2   I upgraded my XXXX XXXX card in XX/XX/2018 and...   \n",
              "10  Chase Card was reported on XX/XX/2019. However...   \n",
              "11  On XX/XX/2018, while trying to book a XXXX  XX...   \n",
              "14  my grand son give me check for {$1600.00} i de...   \n",
              "\n",
              "                                      Complaint_clean  \\\n",
              "1   morning name   I cardmember service I debt ver...   \n",
              "2   I  card agent upgrade anniversary date It agen...   \n",
              "10  report application submit identity consent ser...   \n",
              "11  book ticket I offer ticket I card I informatio...   \n",
              "14  son check account money son money money time c...   \n",
              "\n",
              "                                complaint_POS_removed  Topic  \n",
              "1   morning name XXXX XXXX I cardmember service I ...      0  \n",
              "2   I XXXX card agent upgrade anniversary date It ...      3  \n",
              "10  report application submit identity consent ser...      1  \n",
              "11  book ticket I offer ticket I card I informatio...      1  \n",
              "14  son check account money son money money time c...      0  "
            ]
          },
          "execution_count": 44,
          "metadata": {},
          "output_type": "execute_result"
        }
      ],
      "source": [
        "df_clean.head()"
      ]
    },
    {
      "cell_type": "code",
      "execution_count": null,
      "metadata": {
        "id": "aQKpufSPJrGG",
        "scrolled": false,
        "outputId": "5c09d3c3-dd47-4799-aaef-5cb266500548"
      },
      "outputs": [
        {
          "data": {
            "text/html": [
              "<div>\n",
              "<style scoped>\n",
              "    .dataframe tbody tr th:only-of-type {\n",
              "        vertical-align: middle;\n",
              "    }\n",
              "\n",
              "    .dataframe tbody tr th {\n",
              "        vertical-align: top;\n",
              "    }\n",
              "\n",
              "    .dataframe thead th {\n",
              "        text-align: right;\n",
              "    }\n",
              "</style>\n",
              "<table border=\"1\" class=\"dataframe\">\n",
              "  <thead>\n",
              "    <tr style=\"text-align: right;\">\n",
              "      <th></th>\n",
              "      <th>complaint_what_happened</th>\n",
              "      <th>Complaint_clean</th>\n",
              "      <th>complaint_POS_removed</th>\n",
              "      <th>Topic</th>\n",
              "    </tr>\n",
              "  </thead>\n",
              "  <tbody>\n",
              "    <tr>\n",
              "      <th>1</th>\n",
              "      <td>Good morning my name is XXXX XXXX and I apprec...</td>\n",
              "      <td>morning name   I cardmember service I debt ver...</td>\n",
              "      <td>morning name XXXX XXXX I cardmember service I ...</td>\n",
              "      <td>0</td>\n",
              "    </tr>\n",
              "    <tr>\n",
              "      <th>21</th>\n",
              "      <td>On XXXX XX/XX/2019, I made a {$300.00} payment...</td>\n",
              "      <td>I payment retailer pay website I scam website ...</td>\n",
              "      <td>I payment retailer pay website I scam website ...</td>\n",
              "      <td>0</td>\n",
              "    </tr>\n",
              "    <tr>\n",
              "      <th>17</th>\n",
              "      <td>With out notice J.P. Morgan Chase restricted m...</td>\n",
              "      <td>notice account debit card I branch customer se...</td>\n",
              "      <td>notice account debit card I branch customer se...</td>\n",
              "      <td>0</td>\n",
              "    </tr>\n",
              "    <tr>\n",
              "      <th>14</th>\n",
              "      <td>my grand son give me check for {$1600.00} i de...</td>\n",
              "      <td>son check account money son money money time c...</td>\n",
              "      <td>son check account money son money money time c...</td>\n",
              "      <td>0</td>\n",
              "    </tr>\n",
              "    <tr>\n",
              "      <th>27</th>\n",
              "      <td>I opened an account with chase bank on XXXX an...</td>\n",
              "      <td>I code bonus I term everything account I depos...</td>\n",
              "      <td>I code bonus I term everything account I depos...</td>\n",
              "      <td>0</td>\n",
              "    </tr>\n",
              "    <tr>\n",
              "      <th>15</th>\n",
              "      <td>Can you please remove inquiry</td>\n",
              "      <td>inquiry</td>\n",
              "      <td>inquiry</td>\n",
              "      <td>1</td>\n",
              "    </tr>\n",
              "    <tr>\n",
              "      <th>10</th>\n",
              "      <td>Chase Card was reported on XX/XX/2019. However...</td>\n",
              "      <td>report application submit identity consent ser...</td>\n",
              "      <td>report application submit identity consent ser...</td>\n",
              "      <td>1</td>\n",
              "    </tr>\n",
              "    <tr>\n",
              "      <th>23</th>\n",
              "      <td>I have a Chase credit card which is incorrectl...</td>\n",
              "      <td>I credit card data credit report company issue</td>\n",
              "      <td>I credit card data credit report company issue</td>\n",
              "      <td>1</td>\n",
              "    </tr>\n",
              "    <tr>\n",
              "      <th>26</th>\n",
              "      <td>I have reached out to XXXX several times in at...</td>\n",
              "      <td>I time inquiry remove I I call contact credito...</td>\n",
              "      <td>I time inquiry remove I I call contact credito...</td>\n",
              "      <td>1</td>\n",
              "    </tr>\n",
              "    <tr>\n",
              "      <th>11</th>\n",
              "      <td>On XX/XX/2018, while trying to book a XXXX  XX...</td>\n",
              "      <td>book ticket I offer ticket I card I informatio...</td>\n",
              "      <td>book ticket I offer ticket I card I informatio...</td>\n",
              "      <td>1</td>\n",
              "    </tr>\n",
              "    <tr>\n",
              "      <th>81</th>\n",
              "      <td>I bought a new XXXX XXXX on XX/XX/XXXX from XX...</td>\n",
              "      <td>I      I loan chase title I chase time resolut...</td>\n",
              "      <td>I XXXX XXXX XXXX XXXX XXXX I loan chase title ...</td>\n",
              "      <td>2</td>\n",
              "    </tr>\n",
              "    <tr>\n",
              "      <th>73</th>\n",
              "      <td>I have wired through one of Chase branches in ...</td>\n",
              "      <td>I branch order foreclosure property trustee   ...</td>\n",
              "      <td>I branch order foreclosure property trustee XX...</td>\n",
              "      <td>2</td>\n",
              "    </tr>\n",
              "    <tr>\n",
              "      <th>57</th>\n",
              "      <td>I have been trying to do a loan modification w...</td>\n",
              "      <td>I loan modification runaround I payments I</td>\n",
              "      <td>I loan modification runaround I payments I</td>\n",
              "      <td>2</td>\n",
              "    </tr>\n",
              "    <tr>\n",
              "      <th>127</th>\n",
              "      <td>I am XXXX military member ( XXXX ) with the XX...</td>\n",
              "      <td>I member GAP insurance waiver coverage I time ...</td>\n",
              "      <td>I member GAP insurance waiver coverage I time ...</td>\n",
              "      <td>2</td>\n",
              "    </tr>\n",
              "    <tr>\n",
              "      <th>99</th>\n",
              "      <td>My name is XXXX XXXX. I have missed a payment ...</td>\n",
              "      <td>My name   I payment days current I time loan m...</td>\n",
              "      <td>My name XXXX XXXX I payment days current I tim...</td>\n",
              "      <td>2</td>\n",
              "    </tr>\n",
              "    <tr>\n",
              "      <th>40</th>\n",
              "      <td>XXXX XXXX a sofa, love seat, table and chairs ...</td>\n",
              "      <td>sofa love seat table chair Debit card charge ...</td>\n",
              "      <td>XXXX sofa love seat table chair Debit card cha...</td>\n",
              "      <td>3</td>\n",
              "    </tr>\n",
              "    <tr>\n",
              "      <th>45</th>\n",
              "      <td>I made a purchase with XXXX XXXX XXXX on XX/XX...</td>\n",
              "      <td>I purchase  amount I transaction I dispute cas...</td>\n",
              "      <td>I purchase XXXX amount I transaction I dispute...</td>\n",
              "      <td>3</td>\n",
              "    </tr>\n",
              "    <tr>\n",
              "      <th>50</th>\n",
              "      <td>I AM A SENIOR CITIZEN THAT HAS BEEN SCAMMED BY...</td>\n",
              "      <td>I CITIZEN THAT COMPANIES I SHARE COMPANIES THE...</td>\n",
              "      <td>I CITIZEN THAT COMPANIES I SHARE COMPANIES THE...</td>\n",
              "      <td>3</td>\n",
              "    </tr>\n",
              "    <tr>\n",
              "      <th>2</th>\n",
              "      <td>I upgraded my XXXX XXXX card in XX/XX/2018 and...</td>\n",
              "      <td>I  card agent upgrade anniversary date It agen...</td>\n",
              "      <td>I XXXX card agent upgrade anniversary date It ...</td>\n",
              "      <td>3</td>\n",
              "    </tr>\n",
              "    <tr>\n",
              "      <th>32</th>\n",
              "      <td>My chase amazon card was declined for a cateri...</td>\n",
              "      <td>My chase amazon card decline cater order I bro...</td>\n",
              "      <td>My chase amazon card decline cater order I bro...</td>\n",
              "      <td>3</td>\n",
              "    </tr>\n",
              "    <tr>\n",
              "      <th>24</th>\n",
              "      <td>mishandling of this account by Chase auto and ...</td>\n",
              "      <td>auto</td>\n",
              "      <td>auto</td>\n",
              "      <td>4</td>\n",
              "    </tr>\n",
              "    <tr>\n",
              "      <th>58</th>\n",
              "      <td>I made a purchase of {$260.00} on XX/XX/XXXX. ...</td>\n",
              "      <td>I purchase I payments payment date attach stat...</td>\n",
              "      <td>I purchase I payments payment date attach stat...</td>\n",
              "      <td>4</td>\n",
              "    </tr>\n",
              "    <tr>\n",
              "      <th>20</th>\n",
              "      <td>During the summer months, I experience a decli...</td>\n",
              "      <td>summer months I decline income employment I mo...</td>\n",
              "      <td>summer months I decline income employment I mo...</td>\n",
              "      <td>4</td>\n",
              "    </tr>\n",
              "    <tr>\n",
              "      <th>82</th>\n",
              "      <td>I recently called to ask Chase bank why they r...</td>\n",
              "      <td>I bank report credit I days payment I I info T...</td>\n",
              "      <td>I bank report credit I days payment I I info T...</td>\n",
              "      <td>4</td>\n",
              "    </tr>\n",
              "    <tr>\n",
              "      <th>30</th>\n",
              "      <td>To whom it may concern, Chase bank charged wro...</td>\n",
              "      <td>concern bank charge overdraft fee I balance fe...</td>\n",
              "      <td>concern bank charge overdraft fee I balance fe...</td>\n",
              "      <td>4</td>\n",
              "    </tr>\n",
              "  </tbody>\n",
              "</table>\n",
              "</div>"
            ],
            "text/plain": [
              "                               complaint_what_happened  \\\n",
              "1    Good morning my name is XXXX XXXX and I apprec...   \n",
              "21   On XXXX XX/XX/2019, I made a {$300.00} payment...   \n",
              "17   With out notice J.P. Morgan Chase restricted m...   \n",
              "14   my grand son give me check for {$1600.00} i de...   \n",
              "27   I opened an account with chase bank on XXXX an...   \n",
              "15                       Can you please remove inquiry   \n",
              "10   Chase Card was reported on XX/XX/2019. However...   \n",
              "23   I have a Chase credit card which is incorrectl...   \n",
              "26   I have reached out to XXXX several times in at...   \n",
              "11   On XX/XX/2018, while trying to book a XXXX  XX...   \n",
              "81   I bought a new XXXX XXXX on XX/XX/XXXX from XX...   \n",
              "73   I have wired through one of Chase branches in ...   \n",
              "57   I have been trying to do a loan modification w...   \n",
              "127  I am XXXX military member ( XXXX ) with the XX...   \n",
              "99   My name is XXXX XXXX. I have missed a payment ...   \n",
              "40   XXXX XXXX a sofa, love seat, table and chairs ...   \n",
              "45   I made a purchase with XXXX XXXX XXXX on XX/XX...   \n",
              "50   I AM A SENIOR CITIZEN THAT HAS BEEN SCAMMED BY...   \n",
              "2    I upgraded my XXXX XXXX card in XX/XX/2018 and...   \n",
              "32   My chase amazon card was declined for a cateri...   \n",
              "24   mishandling of this account by Chase auto and ...   \n",
              "58   I made a purchase of {$260.00} on XX/XX/XXXX. ...   \n",
              "20   During the summer months, I experience a decli...   \n",
              "82   I recently called to ask Chase bank why they r...   \n",
              "30   To whom it may concern, Chase bank charged wro...   \n",
              "\n",
              "                                       Complaint_clean  \\\n",
              "1    morning name   I cardmember service I debt ver...   \n",
              "21   I payment retailer pay website I scam website ...   \n",
              "17   notice account debit card I branch customer se...   \n",
              "14   son check account money son money money time c...   \n",
              "27   I code bonus I term everything account I depos...   \n",
              "15                                             inquiry   \n",
              "10   report application submit identity consent ser...   \n",
              "23      I credit card data credit report company issue   \n",
              "26   I time inquiry remove I I call contact credito...   \n",
              "11   book ticket I offer ticket I card I informatio...   \n",
              "81   I      I loan chase title I chase time resolut...   \n",
              "73   I branch order foreclosure property trustee   ...   \n",
              "57          I loan modification runaround I payments I   \n",
              "127  I member GAP insurance waiver coverage I time ...   \n",
              "99   My name   I payment days current I time loan m...   \n",
              "40    sofa love seat table chair Debit card charge ...   \n",
              "45   I purchase  amount I transaction I dispute cas...   \n",
              "50   I CITIZEN THAT COMPANIES I SHARE COMPANIES THE...   \n",
              "2    I  card agent upgrade anniversary date It agen...   \n",
              "32   My chase amazon card decline cater order I bro...   \n",
              "24                                                auto   \n",
              "58   I purchase I payments payment date attach stat...   \n",
              "20   summer months I decline income employment I mo...   \n",
              "82   I bank report credit I days payment I I info T...   \n",
              "30   concern bank charge overdraft fee I balance fe...   \n",
              "\n",
              "                                 complaint_POS_removed  Topic  \n",
              "1    morning name XXXX XXXX I cardmember service I ...      0  \n",
              "21   I payment retailer pay website I scam website ...      0  \n",
              "17   notice account debit card I branch customer se...      0  \n",
              "14   son check account money son money money time c...      0  \n",
              "27   I code bonus I term everything account I depos...      0  \n",
              "15                                             inquiry      1  \n",
              "10   report application submit identity consent ser...      1  \n",
              "23      I credit card data credit report company issue      1  \n",
              "26   I time inquiry remove I I call contact credito...      1  \n",
              "11   book ticket I offer ticket I card I informatio...      1  \n",
              "81   I XXXX XXXX XXXX XXXX XXXX I loan chase title ...      2  \n",
              "73   I branch order foreclosure property trustee XX...      2  \n",
              "57          I loan modification runaround I payments I      2  \n",
              "127  I member GAP insurance waiver coverage I time ...      2  \n",
              "99   My name XXXX XXXX I payment days current I tim...      2  \n",
              "40   XXXX sofa love seat table chair Debit card cha...      3  \n",
              "45   I purchase XXXX amount I transaction I dispute...      3  \n",
              "50   I CITIZEN THAT COMPANIES I SHARE COMPANIES THE...      3  \n",
              "2    I XXXX card agent upgrade anniversary date It ...      3  \n",
              "32   My chase amazon card decline cater order I bro...      3  \n",
              "24                                                auto      4  \n",
              "58   I purchase I payments payment date attach stat...      4  \n",
              "20   summer months I decline income employment I mo...      4  \n",
              "82   I bank report credit I days payment I I info T...      4  \n",
              "30   concern bank charge overdraft fee I balance fe...      4  "
            ]
          },
          "execution_count": 45,
          "metadata": {},
          "output_type": "execute_result"
        }
      ],
      "source": [
        "#Print the first 5 Complaint for each of the Topics\n",
        "df_clean.groupby('Topic').head(5).sort_values('Topic')"
      ]
    },
    {
      "cell_type": "markdown",
      "metadata": {
        "id": "piyLxzj6v07j"
      },
      "source": [
        "#### After evaluating the mapping, if the topics assigned are correct then assign these names to the relevant topic:\n",
        "* Bank Account services\n",
        "* Credit card or prepaid card\n",
        "* Theft/Dispute Reporting\n",
        "* Mortgage/Loan\n",
        "* Others"
      ]
    },
    {
      "cell_type": "code",
      "execution_count": null,
      "metadata": {
        "id": "TWpwDG4RJrGG"
      },
      "outputs": [],
      "source": [
        "#Create the dictionary of Topic names and Topics\n",
        "\n",
        "Topic_names = { 0: \"Bank Account services\",\n",
        "1: \"Credit card or prepaid card\",\n",
        "2: \"Mortgage/Loan\",\n",
        "3: \"Theft/Dispute Reporting\",\n",
        "4: \"Others\"  }\n",
        "#Replace Topics with Topic Names\n",
        "df_clean['Topic'] = df_clean['Topic'].map(Topic_names)"
      ]
    },
    {
      "cell_type": "code",
      "execution_count": null,
      "metadata": {
        "id": "-2ULY5K6JrGG",
        "scrolled": false,
        "outputId": "bbaae0e0-2ca9-45fa-ddb7-417f6e2df0b1"
      },
      "outputs": [
        {
          "data": {
            "text/html": [
              "<div>\n",
              "<style scoped>\n",
              "    .dataframe tbody tr th:only-of-type {\n",
              "        vertical-align: middle;\n",
              "    }\n",
              "\n",
              "    .dataframe tbody tr th {\n",
              "        vertical-align: top;\n",
              "    }\n",
              "\n",
              "    .dataframe thead th {\n",
              "        text-align: right;\n",
              "    }\n",
              "</style>\n",
              "<table border=\"1\" class=\"dataframe\">\n",
              "  <thead>\n",
              "    <tr style=\"text-align: right;\">\n",
              "      <th></th>\n",
              "      <th>complaint_what_happened</th>\n",
              "      <th>Complaint_clean</th>\n",
              "      <th>complaint_POS_removed</th>\n",
              "      <th>Topic</th>\n",
              "    </tr>\n",
              "  </thead>\n",
              "  <tbody>\n",
              "    <tr>\n",
              "      <th>1</th>\n",
              "      <td>Good morning my name is XXXX XXXX and I apprec...</td>\n",
              "      <td>morning name   I cardmember service I debt ver...</td>\n",
              "      <td>morning name XXXX XXXX I cardmember service I ...</td>\n",
              "      <td>Bank Account services</td>\n",
              "    </tr>\n",
              "    <tr>\n",
              "      <th>2</th>\n",
              "      <td>I upgraded my XXXX XXXX card in XX/XX/2018 and...</td>\n",
              "      <td>I  card agent upgrade anniversary date It agen...</td>\n",
              "      <td>I XXXX card agent upgrade anniversary date It ...</td>\n",
              "      <td>Theft/Dispute Reporting</td>\n",
              "    </tr>\n",
              "    <tr>\n",
              "      <th>10</th>\n",
              "      <td>Chase Card was reported on XX/XX/2019. However...</td>\n",
              "      <td>report application submit identity consent ser...</td>\n",
              "      <td>report application submit identity consent ser...</td>\n",
              "      <td>Credit card or prepaid card</td>\n",
              "    </tr>\n",
              "    <tr>\n",
              "      <th>11</th>\n",
              "      <td>On XX/XX/2018, while trying to book a XXXX  XX...</td>\n",
              "      <td>book ticket I offer ticket I card I informatio...</td>\n",
              "      <td>book ticket I offer ticket I card I informatio...</td>\n",
              "      <td>Credit card or prepaid card</td>\n",
              "    </tr>\n",
              "    <tr>\n",
              "      <th>14</th>\n",
              "      <td>my grand son give me check for {$1600.00} i de...</td>\n",
              "      <td>son check account money son money money time c...</td>\n",
              "      <td>son check account money son money money time c...</td>\n",
              "      <td>Bank Account services</td>\n",
              "    </tr>\n",
              "    <tr>\n",
              "      <th>...</th>\n",
              "      <td>...</td>\n",
              "      <td>...</td>\n",
              "      <td>...</td>\n",
              "      <td>...</td>\n",
              "    </tr>\n",
              "    <tr>\n",
              "      <th>78303</th>\n",
              "      <td>After being a Chase Card customer for well ove...</td>\n",
              "      <td>customer decade solicitations credit card bonu...</td>\n",
              "      <td>customer decade solicitations credit card bonu...</td>\n",
              "      <td>Theft/Dispute Reporting</td>\n",
              "    </tr>\n",
              "    <tr>\n",
              "      <th>78309</th>\n",
              "      <td>On Wednesday, XX/XX/XXXX I called Chas, my XXX...</td>\n",
              "      <td>I provider claim purchase protection benefit I...</td>\n",
              "      <td>I provider claim purchase protection benefit I...</td>\n",
              "      <td>Theft/Dispute Reporting</td>\n",
              "    </tr>\n",
              "    <tr>\n",
              "      <th>78310</th>\n",
              "      <td>I am not familiar with XXXX pay and did not un...</td>\n",
              "      <td>I pay risk consumers I bank app I years I deal...</td>\n",
              "      <td>I pay risk consumers I bank app I years I deal...</td>\n",
              "      <td>Bank Account services</td>\n",
              "    </tr>\n",
              "    <tr>\n",
              "      <th>78311</th>\n",
              "      <td>I have had flawless credit for 30 yrs. I've ha...</td>\n",
              "      <td>I credit yrs I credit card problems I balance ...</td>\n",
              "      <td>I credit yrs I credit card problems I balance ...</td>\n",
              "      <td>Others</td>\n",
              "    </tr>\n",
              "    <tr>\n",
              "      <th>78312</th>\n",
              "      <td>Roughly 10+ years ago I closed out my accounts...</td>\n",
              "      <td>years I account line credit I I account paymen...</td>\n",
              "      <td>years I account line credit I I account paymen...</td>\n",
              "      <td>Others</td>\n",
              "    </tr>\n",
              "  </tbody>\n",
              "</table>\n",
              "<p>21072 rows × 4 columns</p>\n",
              "</div>"
            ],
            "text/plain": [
              "                                 complaint_what_happened  \\\n",
              "1      Good morning my name is XXXX XXXX and I apprec...   \n",
              "2      I upgraded my XXXX XXXX card in XX/XX/2018 and...   \n",
              "10     Chase Card was reported on XX/XX/2019. However...   \n",
              "11     On XX/XX/2018, while trying to book a XXXX  XX...   \n",
              "14     my grand son give me check for {$1600.00} i de...   \n",
              "...                                                  ...   \n",
              "78303  After being a Chase Card customer for well ove...   \n",
              "78309  On Wednesday, XX/XX/XXXX I called Chas, my XXX...   \n",
              "78310  I am not familiar with XXXX pay and did not un...   \n",
              "78311  I have had flawless credit for 30 yrs. I've ha...   \n",
              "78312  Roughly 10+ years ago I closed out my accounts...   \n",
              "\n",
              "                                         Complaint_clean  \\\n",
              "1      morning name   I cardmember service I debt ver...   \n",
              "2      I  card agent upgrade anniversary date It agen...   \n",
              "10     report application submit identity consent ser...   \n",
              "11     book ticket I offer ticket I card I informatio...   \n",
              "14     son check account money son money money time c...   \n",
              "...                                                  ...   \n",
              "78303  customer decade solicitations credit card bonu...   \n",
              "78309  I provider claim purchase protection benefit I...   \n",
              "78310  I pay risk consumers I bank app I years I deal...   \n",
              "78311  I credit yrs I credit card problems I balance ...   \n",
              "78312  years I account line credit I I account paymen...   \n",
              "\n",
              "                                   complaint_POS_removed  \\\n",
              "1      morning name XXXX XXXX I cardmember service I ...   \n",
              "2      I XXXX card agent upgrade anniversary date It ...   \n",
              "10     report application submit identity consent ser...   \n",
              "11     book ticket I offer ticket I card I informatio...   \n",
              "14     son check account money son money money time c...   \n",
              "...                                                  ...   \n",
              "78303  customer decade solicitations credit card bonu...   \n",
              "78309  I provider claim purchase protection benefit I...   \n",
              "78310  I pay risk consumers I bank app I years I deal...   \n",
              "78311  I credit yrs I credit card problems I balance ...   \n",
              "78312  years I account line credit I I account paymen...   \n",
              "\n",
              "                             Topic  \n",
              "1            Bank Account services  \n",
              "2          Theft/Dispute Reporting  \n",
              "10     Credit card or prepaid card  \n",
              "11     Credit card or prepaid card  \n",
              "14           Bank Account services  \n",
              "...                            ...  \n",
              "78303      Theft/Dispute Reporting  \n",
              "78309      Theft/Dispute Reporting  \n",
              "78310        Bank Account services  \n",
              "78311                       Others  \n",
              "78312                       Others  \n",
              "\n",
              "[21072 rows x 4 columns]"
            ]
          },
          "execution_count": 47,
          "metadata": {},
          "output_type": "execute_result"
        }
      ],
      "source": [
        "df_clean"
      ]
    },
    {
      "cell_type": "markdown",
      "metadata": {
        "id": "7Mu0QBOcJrGH"
      },
      "source": [
        "## Supervised model to predict any new complaints to the relevant Topics.\n",
        "\n",
        "You have now build the model to create the topics for each complaints.Now in the below section you will use them to classify any new complaints.\n",
        "\n",
        "Since you will be using supervised learning technique we have to convert the topic names to numbers(numpy arrays only understand numbers)"
      ]
    },
    {
      "cell_type": "code",
      "execution_count": null,
      "metadata": {
        "id": "_U8J3J8wJrGH"
      },
      "outputs": [],
      "source": [
        "#Create the dictionary again of Topic names and Topics\n",
        "\n",
        "Topic_names =  {\"Bank Account services\": 0,\n",
        "\"Credit card or prepaid card\": 1,\n",
        "\"Mortgage/Loan\": 2,\n",
        "\"Theft/Dispute Reporting\": 3,\n",
        "\"Others\": 4  }\n",
        "#Replace Topics with Topic Names\n",
        "df_clean['Topic'] = df_clean['Topic'].map(Topic_names)"
      ]
    },
    {
      "cell_type": "code",
      "execution_count": null,
      "metadata": {
        "id": "BWIgJUkQJrGH",
        "scrolled": false,
        "outputId": "f1e31477-8bf7-48de-d55e-f9fd38122a07"
      },
      "outputs": [
        {
          "data": {
            "text/html": [
              "<div>\n",
              "<style scoped>\n",
              "    .dataframe tbody tr th:only-of-type {\n",
              "        vertical-align: middle;\n",
              "    }\n",
              "\n",
              "    .dataframe tbody tr th {\n",
              "        vertical-align: top;\n",
              "    }\n",
              "\n",
              "    .dataframe thead th {\n",
              "        text-align: right;\n",
              "    }\n",
              "</style>\n",
              "<table border=\"1\" class=\"dataframe\">\n",
              "  <thead>\n",
              "    <tr style=\"text-align: right;\">\n",
              "      <th></th>\n",
              "      <th>complaint_what_happened</th>\n",
              "      <th>Complaint_clean</th>\n",
              "      <th>complaint_POS_removed</th>\n",
              "      <th>Topic</th>\n",
              "    </tr>\n",
              "  </thead>\n",
              "  <tbody>\n",
              "    <tr>\n",
              "      <th>1</th>\n",
              "      <td>Good morning my name is XXXX XXXX and I apprec...</td>\n",
              "      <td>morning name   I cardmember service I debt ver...</td>\n",
              "      <td>morning name XXXX XXXX I cardmember service I ...</td>\n",
              "      <td>0</td>\n",
              "    </tr>\n",
              "    <tr>\n",
              "      <th>2</th>\n",
              "      <td>I upgraded my XXXX XXXX card in XX/XX/2018 and...</td>\n",
              "      <td>I  card agent upgrade anniversary date It agen...</td>\n",
              "      <td>I XXXX card agent upgrade anniversary date It ...</td>\n",
              "      <td>3</td>\n",
              "    </tr>\n",
              "    <tr>\n",
              "      <th>10</th>\n",
              "      <td>Chase Card was reported on XX/XX/2019. However...</td>\n",
              "      <td>report application submit identity consent ser...</td>\n",
              "      <td>report application submit identity consent ser...</td>\n",
              "      <td>1</td>\n",
              "    </tr>\n",
              "    <tr>\n",
              "      <th>11</th>\n",
              "      <td>On XX/XX/2018, while trying to book a XXXX  XX...</td>\n",
              "      <td>book ticket I offer ticket I card I informatio...</td>\n",
              "      <td>book ticket I offer ticket I card I informatio...</td>\n",
              "      <td>1</td>\n",
              "    </tr>\n",
              "    <tr>\n",
              "      <th>14</th>\n",
              "      <td>my grand son give me check for {$1600.00} i de...</td>\n",
              "      <td>son check account money son money money time c...</td>\n",
              "      <td>son check account money son money money time c...</td>\n",
              "      <td>0</td>\n",
              "    </tr>\n",
              "    <tr>\n",
              "      <th>...</th>\n",
              "      <td>...</td>\n",
              "      <td>...</td>\n",
              "      <td>...</td>\n",
              "      <td>...</td>\n",
              "    </tr>\n",
              "    <tr>\n",
              "      <th>78303</th>\n",
              "      <td>After being a Chase Card customer for well ove...</td>\n",
              "      <td>customer decade solicitations credit card bonu...</td>\n",
              "      <td>customer decade solicitations credit card bonu...</td>\n",
              "      <td>3</td>\n",
              "    </tr>\n",
              "    <tr>\n",
              "      <th>78309</th>\n",
              "      <td>On Wednesday, XX/XX/XXXX I called Chas, my XXX...</td>\n",
              "      <td>I provider claim purchase protection benefit I...</td>\n",
              "      <td>I provider claim purchase protection benefit I...</td>\n",
              "      <td>3</td>\n",
              "    </tr>\n",
              "    <tr>\n",
              "      <th>78310</th>\n",
              "      <td>I am not familiar with XXXX pay and did not un...</td>\n",
              "      <td>I pay risk consumers I bank app I years I deal...</td>\n",
              "      <td>I pay risk consumers I bank app I years I deal...</td>\n",
              "      <td>0</td>\n",
              "    </tr>\n",
              "    <tr>\n",
              "      <th>78311</th>\n",
              "      <td>I have had flawless credit for 30 yrs. I've ha...</td>\n",
              "      <td>I credit yrs I credit card problems I balance ...</td>\n",
              "      <td>I credit yrs I credit card problems I balance ...</td>\n",
              "      <td>4</td>\n",
              "    </tr>\n",
              "    <tr>\n",
              "      <th>78312</th>\n",
              "      <td>Roughly 10+ years ago I closed out my accounts...</td>\n",
              "      <td>years I account line credit I I account paymen...</td>\n",
              "      <td>years I account line credit I I account paymen...</td>\n",
              "      <td>4</td>\n",
              "    </tr>\n",
              "  </tbody>\n",
              "</table>\n",
              "<p>21072 rows × 4 columns</p>\n",
              "</div>"
            ],
            "text/plain": [
              "                                 complaint_what_happened  \\\n",
              "1      Good morning my name is XXXX XXXX and I apprec...   \n",
              "2      I upgraded my XXXX XXXX card in XX/XX/2018 and...   \n",
              "10     Chase Card was reported on XX/XX/2019. However...   \n",
              "11     On XX/XX/2018, while trying to book a XXXX  XX...   \n",
              "14     my grand son give me check for {$1600.00} i de...   \n",
              "...                                                  ...   \n",
              "78303  After being a Chase Card customer for well ove...   \n",
              "78309  On Wednesday, XX/XX/XXXX I called Chas, my XXX...   \n",
              "78310  I am not familiar with XXXX pay and did not un...   \n",
              "78311  I have had flawless credit for 30 yrs. I've ha...   \n",
              "78312  Roughly 10+ years ago I closed out my accounts...   \n",
              "\n",
              "                                         Complaint_clean  \\\n",
              "1      morning name   I cardmember service I debt ver...   \n",
              "2      I  card agent upgrade anniversary date It agen...   \n",
              "10     report application submit identity consent ser...   \n",
              "11     book ticket I offer ticket I card I informatio...   \n",
              "14     son check account money son money money time c...   \n",
              "...                                                  ...   \n",
              "78303  customer decade solicitations credit card bonu...   \n",
              "78309  I provider claim purchase protection benefit I...   \n",
              "78310  I pay risk consumers I bank app I years I deal...   \n",
              "78311  I credit yrs I credit card problems I balance ...   \n",
              "78312  years I account line credit I I account paymen...   \n",
              "\n",
              "                                   complaint_POS_removed  Topic  \n",
              "1      morning name XXXX XXXX I cardmember service I ...      0  \n",
              "2      I XXXX card agent upgrade anniversary date It ...      3  \n",
              "10     report application submit identity consent ser...      1  \n",
              "11     book ticket I offer ticket I card I informatio...      1  \n",
              "14     son check account money son money money time c...      0  \n",
              "...                                                  ...    ...  \n",
              "78303  customer decade solicitations credit card bonu...      3  \n",
              "78309  I provider claim purchase protection benefit I...      3  \n",
              "78310  I pay risk consumers I bank app I years I deal...      0  \n",
              "78311  I credit yrs I credit card problems I balance ...      4  \n",
              "78312  years I account line credit I I account paymen...      4  \n",
              "\n",
              "[21072 rows x 4 columns]"
            ]
          },
          "execution_count": 49,
          "metadata": {},
          "output_type": "execute_result"
        }
      ],
      "source": [
        "df_clean"
      ]
    },
    {
      "cell_type": "code",
      "execution_count": null,
      "metadata": {
        "id": "Xx-FrbkWJrGH"
      },
      "outputs": [],
      "source": [
        "#Keep the columns\"complaint_what_happened\" & \"Topic\" only in the new dataframe --> training_data\n",
        "training_data = df_clean[['complaint_what_happened', 'Topic']].copy()"
      ]
    },
    {
      "cell_type": "code",
      "execution_count": null,
      "metadata": {
        "id": "lVg2pa12JrGI",
        "outputId": "832d4960-4b04-40ab-fded-874554f72f90"
      },
      "outputs": [
        {
          "data": {
            "text/html": [
              "<div>\n",
              "<style scoped>\n",
              "    .dataframe tbody tr th:only-of-type {\n",
              "        vertical-align: middle;\n",
              "    }\n",
              "\n",
              "    .dataframe tbody tr th {\n",
              "        vertical-align: top;\n",
              "    }\n",
              "\n",
              "    .dataframe thead th {\n",
              "        text-align: right;\n",
              "    }\n",
              "</style>\n",
              "<table border=\"1\" class=\"dataframe\">\n",
              "  <thead>\n",
              "    <tr style=\"text-align: right;\">\n",
              "      <th></th>\n",
              "      <th>complaint_what_happened</th>\n",
              "      <th>Topic</th>\n",
              "    </tr>\n",
              "  </thead>\n",
              "  <tbody>\n",
              "    <tr>\n",
              "      <th>1</th>\n",
              "      <td>Good morning my name is XXXX XXXX and I apprec...</td>\n",
              "      <td>0</td>\n",
              "    </tr>\n",
              "    <tr>\n",
              "      <th>2</th>\n",
              "      <td>I upgraded my XXXX XXXX card in XX/XX/2018 and...</td>\n",
              "      <td>3</td>\n",
              "    </tr>\n",
              "    <tr>\n",
              "      <th>10</th>\n",
              "      <td>Chase Card was reported on XX/XX/2019. However...</td>\n",
              "      <td>1</td>\n",
              "    </tr>\n",
              "    <tr>\n",
              "      <th>11</th>\n",
              "      <td>On XX/XX/2018, while trying to book a XXXX  XX...</td>\n",
              "      <td>1</td>\n",
              "    </tr>\n",
              "    <tr>\n",
              "      <th>14</th>\n",
              "      <td>my grand son give me check for {$1600.00} i de...</td>\n",
              "      <td>0</td>\n",
              "    </tr>\n",
              "    <tr>\n",
              "      <th>...</th>\n",
              "      <td>...</td>\n",
              "      <td>...</td>\n",
              "    </tr>\n",
              "    <tr>\n",
              "      <th>78303</th>\n",
              "      <td>After being a Chase Card customer for well ove...</td>\n",
              "      <td>3</td>\n",
              "    </tr>\n",
              "    <tr>\n",
              "      <th>78309</th>\n",
              "      <td>On Wednesday, XX/XX/XXXX I called Chas, my XXX...</td>\n",
              "      <td>3</td>\n",
              "    </tr>\n",
              "    <tr>\n",
              "      <th>78310</th>\n",
              "      <td>I am not familiar with XXXX pay and did not un...</td>\n",
              "      <td>0</td>\n",
              "    </tr>\n",
              "    <tr>\n",
              "      <th>78311</th>\n",
              "      <td>I have had flawless credit for 30 yrs. I've ha...</td>\n",
              "      <td>4</td>\n",
              "    </tr>\n",
              "    <tr>\n",
              "      <th>78312</th>\n",
              "      <td>Roughly 10+ years ago I closed out my accounts...</td>\n",
              "      <td>4</td>\n",
              "    </tr>\n",
              "  </tbody>\n",
              "</table>\n",
              "<p>21072 rows × 2 columns</p>\n",
              "</div>"
            ],
            "text/plain": [
              "                                 complaint_what_happened  Topic\n",
              "1      Good morning my name is XXXX XXXX and I apprec...      0\n",
              "2      I upgraded my XXXX XXXX card in XX/XX/2018 and...      3\n",
              "10     Chase Card was reported on XX/XX/2019. However...      1\n",
              "11     On XX/XX/2018, while trying to book a XXXX  XX...      1\n",
              "14     my grand son give me check for {$1600.00} i de...      0\n",
              "...                                                  ...    ...\n",
              "78303  After being a Chase Card customer for well ove...      3\n",
              "78309  On Wednesday, XX/XX/XXXX I called Chas, my XXX...      3\n",
              "78310  I am not familiar with XXXX pay and did not un...      0\n",
              "78311  I have had flawless credit for 30 yrs. I've ha...      4\n",
              "78312  Roughly 10+ years ago I closed out my accounts...      4\n",
              "\n",
              "[21072 rows x 2 columns]"
            ]
          },
          "execution_count": 51,
          "metadata": {},
          "output_type": "execute_result"
        }
      ],
      "source": [
        "training_data"
      ]
    },
    {
      "cell_type": "markdown",
      "metadata": {
        "id": "280Vbqk-7a8M"
      },
      "source": [
        "#### Apply the supervised models on the training data created. In this process, you have to do the following:\n",
        "* Create the vector counts using Count Vectoriser\n",
        "* Transform the word vecotr to tf-idf\n",
        "* Create the train & test data using the train_test_split on the tf-idf & topics\n"
      ]
    },
    {
      "cell_type": "code",
      "execution_count": null,
      "metadata": {
        "id": "oUlQpgkzJrGI"
      },
      "outputs": [],
      "source": [
        "#Write your code to get the Vector count\n",
        "vectorizer = CountVectorizer(ngram_range=(1,3), max_df=0.95, min_df=20,  stop_words='english')\n",
        "vectorized_words = vectorizer.fit_transform(training_data['complaint_what_happened']).toarray()\n",
        "\n",
        "#Write your code here to transform the word vector to tf-idf\n",
        "transformer= TfidfTransformer()\n",
        "tfidf_matrix = transformer.fit_transform(vectorized_words).toarray()"
      ]
    },
    {
      "cell_type": "code",
      "execution_count": null,
      "metadata": {
        "id": "p_NKv0kbbpBI",
        "outputId": "be3c493f-f2bc-40f6-dbe9-196126a511d8"
      },
      "outputs": [
        {
          "data": {
            "text/plain": [
              "array([[0.        , 0.        , 0.        , ..., 0.        , 0.        ,\n",
              "        0.        ],\n",
              "       [0.        , 0.        , 0.        , ..., 0.        , 0.        ,\n",
              "        0.        ],\n",
              "       [0.        , 0.        , 0.        , ..., 0.        , 0.        ,\n",
              "        0.        ],\n",
              "       ...,\n",
              "       [0.        , 0.        , 0.        , ..., 0.        , 0.        ,\n",
              "        0.        ],\n",
              "       [0.10995703, 0.        , 0.        , ..., 0.        , 0.        ,\n",
              "        0.        ],\n",
              "       [0.0643377 , 0.        , 0.        , ..., 0.        , 0.        ,\n",
              "        0.        ]])"
            ]
          },
          "execution_count": 53,
          "metadata": {},
          "output_type": "execute_result"
        }
      ],
      "source": [
        "tfidf_matrix"
      ]
    },
    {
      "cell_type": "code",
      "execution_count": null,
      "metadata": {
        "scrolled": false,
        "id": "NCS3wX0-bpBI"
      },
      "outputs": [],
      "source": [
        "# Create features and target\n",
        "tf_idf = TfidfVectorizer(max_df = 0.95, min_df = 2, stop_words='english')\n",
        "dtm = tf_idf.fit_transform(training_data['complaint_what_happened'])\n",
        "X = pd.DataFrame(dtm.toarray(), columns= tf_idf.get_feature_names() )\n",
        "y = training_data['Topic']"
      ]
    },
    {
      "cell_type": "markdown",
      "metadata": {
        "id": "uMU3vj6w-wqL"
      },
      "source": [
        "You have to try atleast 3 models on the train & test data from these options:\n",
        "* Logistic regression\n",
        "* Decision Tree\n",
        "* Random Forest\n",
        "* Naive Bayes (optional)\n",
        "\n",
        "**Using the required evaluation metrics judge the tried models and select the ones performing the best**"
      ]
    },
    {
      "cell_type": "code",
      "execution_count": null,
      "metadata": {
        "id": "udLHpPsZJrGI"
      },
      "outputs": [],
      "source": [
        "# Write your code here to build any 3 models and evaluate them using the required metrics\n",
        "# Import the required libraries for train test split and metrics\n",
        "from sklearn.model_selection import train_test_split\n",
        "from sklearn import metrics"
      ]
    },
    {
      "cell_type": "code",
      "execution_count": null,
      "metadata": {
        "id": "N2OznsObJrGP",
        "outputId": "94a952e1-c42d-4724-87ce-4ecb7920a2d8"
      },
      "outputs": [
        {
          "name": "stdout",
          "output_type": "stream",
          "text": [
            "Dimension of X_train: (14750, 15947)\n",
            "Dimension of X_test: (6322, 15947)\n"
          ]
        }
      ],
      "source": [
        "# split the dateset into train and test datasets\n",
        "X_train, X_test, y_train, y_test = train_test_split(X, y, test_size=0.3, train_size=0.7, random_state=42)\n",
        "print(\"Dimension of X_train:\", X_train.shape)\n",
        "print(\"Dimension of X_test:\", X_test.shape)"
      ]
    },
    {
      "cell_type": "markdown",
      "metadata": {
        "id": "bnVEp1WXbpBJ"
      },
      "source": [
        "### Using Logistic Regression"
      ]
    },
    {
      "cell_type": "code",
      "execution_count": null,
      "metadata": {
        "id": "MKEHek7BbpBJ",
        "outputId": "cfdbf07c-237a-4fb0-860f-fb5792b12fb9"
      },
      "outputs": [
        {
          "data": {
            "text/plain": [
              "LogisticRegression(max_iter=1000)"
            ]
          },
          "execution_count": 57,
          "metadata": {},
          "output_type": "execute_result"
        }
      ],
      "source": [
        "# Logistic regression\n",
        "from sklearn.linear_model import LogisticRegression\n",
        "logreg = LogisticRegression(max_iter=1000)\n",
        "logreg.fit(X_train, y_train)"
      ]
    },
    {
      "cell_type": "code",
      "execution_count": null,
      "metadata": {
        "id": "jo_1WSi8bpBJ"
      },
      "outputs": [],
      "source": [
        "# making the predictions\n",
        "y_train_pred = logreg.predict(X_train)\n",
        "y_pred = logreg.predict(X_test)"
      ]
    },
    {
      "cell_type": "code",
      "execution_count": null,
      "metadata": {
        "id": "4aBPdxmobpBJ",
        "outputId": "ef2fe8ca-44ea-4141-ec1e-c9e47f49ee2b"
      },
      "outputs": [
        {
          "name": "stdout",
          "output_type": "stream",
          "text": [
            "The train accuracy of the logistic regression model is:  0.9579661016949153\n",
            "The test accuracy of the logistic regression model is:  0.9093641252768111\n"
          ]
        }
      ],
      "source": [
        "# Determine the Accuracy of the Predicted model.\n",
        "print(\"The train accuracy of the logistic regression model is: \", metrics.accuracy_score(y_train,y_train_pred))\n",
        "print(\"The test accuracy of the logistic regression model is: \", metrics.accuracy_score(y_test,y_pred))"
      ]
    },
    {
      "cell_type": "markdown",
      "metadata": {
        "id": "IIt8JsjZbpBJ"
      },
      "source": [
        "### Using Decision Tree"
      ]
    },
    {
      "cell_type": "code",
      "execution_count": null,
      "metadata": {
        "id": "JjBFBIE4bpBJ",
        "outputId": "ac4b102d-d32a-417f-d2e0-7411d7883fcd"
      },
      "outputs": [
        {
          "data": {
            "text/plain": [
              "DecisionTreeClassifier(criterion='entropy', random_state=100)"
            ]
          },
          "execution_count": 60,
          "metadata": {},
          "output_type": "execute_result"
        }
      ],
      "source": [
        "from sklearn.tree import DecisionTreeClassifier\n",
        "dtree = DecisionTreeClassifier(criterion='entropy', random_state=100)\n",
        "# Fit the tree model on training data\n",
        "dtree.fit(X_train, y_train)"
      ]
    },
    {
      "cell_type": "code",
      "execution_count": null,
      "metadata": {
        "id": "0exM9YOvbpBJ"
      },
      "outputs": [],
      "source": [
        "#Predict the response for the test dataset\n",
        "y_pred = dtree.predict(X_test)"
      ]
    },
    {
      "cell_type": "code",
      "execution_count": null,
      "metadata": {
        "id": "hPgU6JiXbpBJ",
        "outputId": "ffaa8e78-82e9-448f-c1a0-79947c246681"
      },
      "outputs": [
        {
          "name": "stdout",
          "output_type": "stream",
          "text": [
            "The test accuracy of the model is:  0.780607402720658\n"
          ]
        }
      ],
      "source": [
        "# Determine the Accuracy of the Predicted model.\n",
        "print(\"The test accuracy of the model is: \", metrics.accuracy_score(y_test,y_pred))"
      ]
    },
    {
      "cell_type": "markdown",
      "metadata": {
        "id": "3e54Kbd3bpBK"
      },
      "source": [
        "### Using Random Forest"
      ]
    },
    {
      "cell_type": "code",
      "execution_count": null,
      "metadata": {
        "id": "eiwgK6b1bpBK"
      },
      "outputs": [],
      "source": [
        "# Importing random forest classifier from sklearn library\n",
        "from sklearn.ensemble import RandomForestClassifier"
      ]
    },
    {
      "cell_type": "code",
      "execution_count": null,
      "metadata": {
        "id": "LrFw8_FXbpBK"
      },
      "outputs": [],
      "source": [
        "# Define a function to execute RandomForest classifier with number of trees as parameters with default as 11\n",
        "def executeRandomForest(n_trees=11):\n",
        "    rfc = RandomForestClassifier(n_estimators=n_trees)\n",
        "    rfc.fit(X_train , y_train)\n",
        "    y_train_pred = logreg.predict(X_train)\n",
        "    y_pred = rfc.predict(X_test)\n",
        "    #print(metrics.classification_report(y_test, y_pred))\n",
        "    # Determine the Accuracy of the Predicted model.\n",
        "    print(\"The train accuracy of the model is: \", metrics.accuracy_score(y_train,y_train_pred))\n",
        "    print(\"The test accuracy of the model is: \", metrics.accuracy_score(y_test,y_pred))"
      ]
    },
    {
      "cell_type": "code",
      "execution_count": null,
      "metadata": {
        "id": "GYT7Ro8JbpBK",
        "outputId": "44bc2415-c547-4a67-9baf-c601a51624c3"
      },
      "outputs": [
        {
          "name": "stdout",
          "output_type": "stream",
          "text": [
            "The train accuracy of the model is:  0.9579661016949153\n",
            "The test accuracy of the model is:  0.7712749130022145\n"
          ]
        }
      ],
      "source": [
        "# Running the random forest with 11 trees\n",
        "executeRandomForest()"
      ]
    },
    {
      "cell_type": "code",
      "execution_count": null,
      "metadata": {
        "id": "n_bD0ETQbpBK",
        "outputId": "aa10fa4c-ed1a-4a25-91d4-dfb0933cf04d"
      },
      "outputs": [
        {
          "name": "stdout",
          "output_type": "stream",
          "text": [
            "The train accuracy of the model is:  0.9579661016949153\n",
            "The test accuracy of the model is:  0.8335969629863967\n"
          ]
        }
      ],
      "source": [
        "# Running the random forest with 100 trees\n",
        "executeRandomForest(100)"
      ]
    },
    {
      "cell_type": "markdown",
      "metadata": {
        "id": "0HEIMhQlbpBK"
      },
      "source": [
        "### Using Naive Bayes Classifier"
      ]
    },
    {
      "cell_type": "code",
      "execution_count": null,
      "metadata": {
        "id": "PBa4ZBbHbpBK"
      },
      "outputs": [],
      "source": [
        "# Import and create a Multinomial Naive Bayes Classifier\n",
        "from sklearn.naive_bayes import MultinomialNB\n",
        "nb = MultinomialNB()\n",
        "nb.fit(X_train, y_train)\n",
        "y_pred = nb.predict(X_test)\n",
        "y_train_pred = nb.predict(X_train)"
      ]
    },
    {
      "cell_type": "code",
      "execution_count": null,
      "metadata": {
        "id": "2PblOmFjbpBK",
        "outputId": "14dffec9-0043-4297-a06e-2c5f78d371dd"
      },
      "outputs": [
        {
          "name": "stdout",
          "output_type": "stream",
          "text": [
            "The train accuracy of the model is:  0.7705084745762711\n",
            "The test accuracy of the model is:  0.726036064536539\n"
          ]
        }
      ],
      "source": [
        "# Determine the Accuracy of the Predicted model.\n",
        "print(\"The train accuracy of the model is: \", metrics.accuracy_score(y_train,y_train_pred))\n",
        "print(\"The test accuracy of the model is: \", metrics.accuracy_score(y_test,y_pred))"
      ]
    },
    {
      "cell_type": "markdown",
      "metadata": {
        "id": "KlYvDVGUbpBL"
      },
      "source": [
        "### Inference"
      ]
    },
    {
      "cell_type": "markdown",
      "metadata": {
        "id": "GX-sN8ifbpBL"
      },
      "source": [
        "Hence after experimenting with different models we observe that the **LogisticRegression** model gives a comparatively better accuracy with:\n",
        "- **Training Accuracy** : <font color='green'>96%</font>\n",
        "- **Testing Accuracy**  : <font color='green'>91%</font>\n",
        "\n",
        "Hence in this case we can select the LogisticRegression model.\n",
        "\n",
        "<font color='blue'>N.B: - Please note that while these experiments were done with different models with either deafult values of parameters or very few hyperparameter tuning, but there is a scope of tuning the hyperparameters, use cross validation using GirdSearchCV or other methodologies to improve the models even further.</font>"
      ]
    },
    {
      "cell_type": "markdown",
      "metadata": {
        "id": "hbPKPOs5bpBL"
      },
      "source": [
        "### Let us now test our model with some sample text to valiadate if it is mapping the text to correct topic"
      ]
    },
    {
      "cell_type": "code",
      "execution_count": null,
      "metadata": {
        "id": "JOkTTk2MbpBL"
      },
      "outputs": [],
      "source": [
        "# Let us redefine the topic mappings\n",
        "\n",
        "Topic_mappings = { 0: \"Bank Account services\",\n",
        "1: \"Credit card or prepaid card\",\n",
        "2: \"Mortgage/Loan\",\n",
        "3: \"Theft/Dispute Reporting\",\n",
        "4: \"Others\"  }"
      ]
    },
    {
      "cell_type": "code",
      "execution_count": null,
      "metadata": {
        "id": "wub1SfpGbpBL"
      },
      "outputs": [],
      "source": [
        "# Let us take a sample complaint\n",
        "\n",
        "sample_complaint= [\"Dear sir, I am having a savings account with your bank's xxxxxx branch (Name of the Branch).\\\n",
        "I request you to change the communication address as well as mobile number and E-mail Id for the same. \\\n",
        "The Account details are: XYZ (Name of Account holder) \\\n",
        "Account no. 12345xxxxxx New Address: XYZ( Name) Address line 1 \\\n",
        "( Flat no./ House no., Lane/Street/Road), Address Line 2 (Name of Colony, Area/ Landmark)\\\n",
        "City Name (State/Province) Country, Pin code /Zip code \\\n",
        "New Mobile Number: 91-xxx-xxx-xxxx New Mail Id: xxxxxxxxx@rediffmail/gmail/hotmail.com\"]"
      ]
    },
    {
      "cell_type": "code",
      "execution_count": null,
      "metadata": {
        "id": "eZb-e2P0bpBL"
      },
      "outputs": [],
      "source": [
        "# Vectorize the complaint text to feed in to the logistic regression model that we trained.\n",
        "vectorized_complaint = tf_idf.transform(sample_complaint)"
      ]
    },
    {
      "cell_type": "code",
      "execution_count": null,
      "metadata": {
        "id": "kbVGjt4rbpBL",
        "outputId": "bfb10aed-69f3-4ea2-c5d3-06f83390b8b0"
      },
      "outputs": [
        {
          "name": "stdout",
          "output_type": "stream",
          "text": [
            "The given complaint belongs to the topic :  Bank Account services\n"
          ]
        },
        {
          "name": "stderr",
          "output_type": "stream",
          "text": [
            "C:\\ProgramData\\Anaconda3\\lib\\site-packages\\sklearn\\base.py:450: UserWarning:\n",
            "\n",
            "X does not have valid feature names, but LogisticRegression was fitted with feature names\n",
            "\n"
          ]
        }
      ],
      "source": [
        "# Let us check that the complaint text comment is calssified to which topic.\n",
        "print('The given complaint belongs to the topic : ',Topic_mappings.get(logreg.predict(vectorized_complaint)[0]))"
      ]
    },
    {
      "cell_type": "markdown",
      "metadata": {
        "id": "UElE0sHcbpBL"
      },
      "source": [
        "##### <font color='green'>Hence we observe that the model correctly classifies the topic to Bank Account Services</font>"
      ]
    },
    {
      "cell_type": "markdown",
      "metadata": {
        "id": "ozOgV1VSbpBL"
      },
      "source": [
        "<center><font color='#ccc'>============================================ End of Analysis ============================================</font></center>"
      ]
    }
  ],
  "metadata": {
    "colab": {
      "collapsed_sections": [
        "T9jD_6SeJrF3",
        "5DfCSbbmJrF4",
        "yYzD85nTJrGA",
        "piyLxzj6v07j",
        "280Vbqk-7a8M"
      ],
      "machine_shape": "hm",
      "provenance": []
    },
    "kernelspec": {
      "display_name": "Python 3 (ipykernel)",
      "language": "python",
      "name": "python3"
    },
    "language_info": {
      "codemirror_mode": {
        "name": "ipython",
        "version": 3
      },
      "file_extension": ".py",
      "mimetype": "text/x-python",
      "name": "python",
      "nbconvert_exporter": "python",
      "pygments_lexer": "ipython3",
      "version": "3.9.7"
    }
  },
  "nbformat": 4,
  "nbformat_minor": 0
}